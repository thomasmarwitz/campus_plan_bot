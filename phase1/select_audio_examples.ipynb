{
 "cells": [
  {
   "cell_type": "code",
   "execution_count": 1,
   "id": "61369a92-9ba1-4f3f-a390-d0261bba9e89",
   "metadata": {},
   "outputs": [],
   "source": [
    "from pathlib import Path\n",
    "import json#\n",
    "import random"
   ]
  },
  {
   "cell_type": "code",
   "execution_count": 2,
   "id": "374be9e1-930a-467d-9a7e-ea99dac7557c",
   "metadata": {},
   "outputs": [],
   "source": [
    "data = Path(\"data\") / \"evaluation\" / \"single_turn\""
   ]
  },
  {
   "cell_type": "code",
   "execution_count": 6,
   "id": "6db94265-5c88-4c17-a0c8-a9c4dccbe5a0",
   "metadata": {},
   "outputs": [
    {
     "data": {
      "text/plain": [
       "{'closed_until_synthetic': 100,\n",
       " 'opening_hours_synthetic': 100,\n",
       " 'open_until_synthetic': 100,\n",
       " 'open_website_synthetic': 100,\n",
       " 'wheelchair_accessible_synthetic': 100,\n",
       " 'navigation_link_synthetic': 50,\n",
       " 'building_location_synthetic': 85,\n",
       " 'open_now_synthetic': 100}"
      ]
     },
     "execution_count": 6,
     "metadata": {},
     "output_type": "execute_result"
    }
   ],
   "source": [
    "paths = [p for p in data.glob(\"*.json\") if \"fake\" not in str(p) and \"syn\" in str(p)]\n",
    "all_prompts = {p.stem: json.loads(p.read_text()) for p in paths}\n",
    "{k:len(v) for k,v in all_prompts.items()}"
   ]
  },
  {
   "cell_type": "code",
   "execution_count": 7,
   "id": "095fd6a4-142b-4e40-a26d-846c23f19767",
   "metadata": {},
   "outputs": [],
   "source": [
    "K = 10"
   ]
  },
  {
   "cell_type": "code",
   "execution_count": 8,
   "id": "88dcaf01-317c-4ff6-9798-8f870fd1aba7",
   "metadata": {},
   "outputs": [],
   "source": [
    "\n",
    "for name in (\"frederik\", \"thomas\"):\n",
    "    text = \"\"\n",
    "\n",
    "    for key, values in all_prompts.items():\n",
    "        text += f\"## {key}\\n\\n\"\n",
    "        sampled_nums = random.sample(list(range(len(values))), K)\n",
    "        sampled = [values[i] for i in sampled_nums]\n",
    "        text += \"\\n\".join(\"- [ ] \" + f\"({num:02d}) \" + v[\"prompts\"][0][\"reformulated_prompt\"] for v, num in zip(sampled, sampled_nums))\n",
    "        text += \"\\n\\n\"\n",
    "\n",
    "    (data.parent / \"audio\" / f\"{name}_audio_samples.md\").write_text(text)"
   ]
  },
  {
   "cell_type": "code",
   "execution_count": 10,
   "id": "901c41df-fb96-4172-9d5e-2466d4f3e63b",
   "metadata": {},
   "outputs": [],
   "source": [
    "# select 15 multiturn examples\n",
    "K_multi = 15\n",
    "\n",
    "multi_turn_p = data.parent / \"multi_turn\" / \"multi_turns.json\"\n",
    "data_multi = json.loads(multi_turn_p.read_text())"
   ]
  },
  {
   "cell_type": "code",
   "execution_count": 19,
   "id": "d81077c3-e706-49dd-a186-cfff509c2470",
   "metadata": {},
   "outputs": [],
   "source": [
    "fst = random.sample(range(100), K_multi)\n",
    "snd = [i + 100 for i in random.sample(range(100), K_multi)]\n",
    "\n",
    "for name, indices in zip((\"frederik\", \"thomas\"), (fst, snd)):\n",
    "    text = \"\"\n",
    "\n",
    "    for ind in indices:\n",
    "        text += f\"## Multi Turn ({ind})\\n\\n\"\n",
    "        \n",
    "        text += \"\\n\".join(\n",
    "            \"- [ ] \" + p[\"reformulated_prompt\"] for p in data_multi[ind][\"prompts\"]\n",
    "        )\n",
    "        text += \"\\n\\n\"\n",
    "\n",
    "    (data.parent / \"audio\" / f\"{name}_multi_turn_audio_samples.md\").write_text(text)"
   ]
  },
  {
   "cell_type": "markdown",
   "id": "9e3f6b99-f2c8-4e0c-a558-169feacf8107",
   "metadata": {},
   "source": [
    "## Rename Audio Files"
   ]
  },
  {
   "cell_type": "code",
   "execution_count": 38,
   "id": "9e0baee6-af1f-4bc3-a6bd-4c5d1d381b6d",
   "metadata": {},
   "outputs": [],
   "source": [
    "voice_notes = list(sorted(Path(\"data/evaluation/audio/multi_turn\").glob(\"Voice*\")))"
   ]
  },
  {
   "cell_type": "code",
   "execution_count": 36,
   "id": "92e912bf-d983-428a-8c1f-c25ca3e9ec18",
   "metadata": {},
   "outputs": [],
   "source": [
    "# if snd / fst not available, parse from markdown"
   ]
  },
  {
   "cell_type": "code",
   "execution_count": 41,
   "id": "d60ac559-d77b-4b8b-b940-c8287424bfc0",
   "metadata": {},
   "outputs": [
    {
     "data": {
      "text/plain": [
       "(45, 45)"
      ]
     },
     "execution_count": 41,
     "metadata": {},
     "output_type": "execute_result"
    }
   ],
   "source": [
    "new_names = [\n",
    "    f\"{ind:03d}-{i}.m4a\"\n",
    "    for ind in snd\n",
    "    for i in range(data_multi[ind][\"num_turns\"])\n",
    "]\n",
    "len(new_names), len(voice_notes)"
   ]
  },
  {
   "cell_type": "code",
   "execution_count": 40,
   "id": "d740b7af-83c3-4efb-a8df-a3f8dcbb426c",
   "metadata": {},
   "outputs": [],
   "source": [
    "for old, new in zip(voice_notes, new_names):\n",
    "    old.rename(old.with_name(new))"
   ]
  },
  {
   "cell_type": "code",
   "execution_count": 43,
   "id": "b86fab2c-bbbb-483b-8ee5-ed0b566b8061",
   "metadata": {},
   "outputs": [],
   "source": [
    "#for p in Path(\"data/evaluation/audio/multi_turn\").glob(\"*\"):\n",
    "#   p.rename(p.with_name(p.name + \".m4a\"))"
   ]
  },
  {
   "cell_type": "code",
   "execution_count": 49,
   "id": "94165ee3-f75d-4514-b055-49fdfa5a961f",
   "metadata": {
    "scrolled": true
   },
   "outputs": [
    {
     "data": {
      "text/plain": [
       "{'closed_until_synthetic': ['06',\n",
       "  '53',\n",
       "  '76',\n",
       "  '86',\n",
       "  '60',\n",
       "  '30',\n",
       "  '78',\n",
       "  '47',\n",
       "  '79',\n",
       "  '45'],\n",
       " 'opening_hours_synthetic': ['44',\n",
       "  '80',\n",
       "  '50',\n",
       "  '55',\n",
       "  '77',\n",
       "  '58',\n",
       "  '46',\n",
       "  '13',\n",
       "  '69',\n",
       "  '05'],\n",
       " 'open_until_synthetic': ['24',\n",
       "  '33',\n",
       "  '50',\n",
       "  '98',\n",
       "  '22',\n",
       "  '36',\n",
       "  '92',\n",
       "  '38',\n",
       "  '54',\n",
       "  '04'],\n",
       " 'open_website_synthetic': ['13',\n",
       "  '93',\n",
       "  '50',\n",
       "  '43',\n",
       "  '17',\n",
       "  '11',\n",
       "  '46',\n",
       "  '27',\n",
       "  '76',\n",
       "  '98'],\n",
       " 'wheelchair_accessible_synthetic': ['99',\n",
       "  '10',\n",
       "  '51',\n",
       "  '04',\n",
       "  '23',\n",
       "  '08',\n",
       "  '06',\n",
       "  '46',\n",
       "  '91',\n",
       "  '57'],\n",
       " 'navigation_link_synthetic': ['15',\n",
       "  '05',\n",
       "  '27',\n",
       "  '36',\n",
       "  '30',\n",
       "  '21',\n",
       "  '02',\n",
       "  '28',\n",
       "  '47',\n",
       "  '08'],\n",
       " 'building_location_synthetic': ['11',\n",
       "  '12',\n",
       "  '63',\n",
       "  '67',\n",
       "  '57',\n",
       "  '64',\n",
       "  '41',\n",
       "  '82',\n",
       "  '40',\n",
       "  '83'],\n",
       " 'open_now_synthetic': ['73',\n",
       "  '42',\n",
       "  '33',\n",
       "  '58',\n",
       "  '40',\n",
       "  '67',\n",
       "  '52',\n",
       "  '31',\n",
       "  '22',\n",
       "  '39']}"
      ]
     },
     "execution_count": 49,
     "metadata": {},
     "output_type": "execute_result"
    }
   ],
   "source": [
    "import re\n",
    "# Match headings that start with ##\n",
    "heading_regex = r\"^##\\s+(.*)$\"\n",
    "# Match task items with numbers in parentheses\n",
    "task_regex = r\"^-\\s+\\[\\s*\\]\\s*\\((\\d+)\\)\\s+(.*)$\"\n",
    "\n",
    "text = Path(\"data/evaluation/audio/thomas_audio_samples.md\").read_text()\n",
    "\n",
    "headings = re.findall(heading_regex, text, re.MULTILINE)\n",
    "tasks = re.findall(task_regex, text, re.MULTILINE)\n",
    "\n",
    "data = {h:[x[0] for x in tasks[i:i+10]] for h, i in zip(headings, range(0, len(tasks), 10))}\n",
    "data"
   ]
  },
  {
   "cell_type": "code",
   "execution_count": 54,
   "id": "074b8da6-ec2d-4ba5-aeb9-9ba01c313288",
   "metadata": {},
   "outputs": [],
   "source": [
    "s_new_names = [f\"{key}-{value}.m4a\" for key,values in data.items() for value in values]"
   ]
  },
  {
   "cell_type": "code",
   "execution_count": 55,
   "id": "d5de56f9-8592-4d0c-a2f1-ac2341a159b7",
   "metadata": {},
   "outputs": [
    {
     "data": {
      "text/plain": [
       "(80, 80)"
      ]
     },
     "execution_count": 55,
     "metadata": {},
     "output_type": "execute_result"
    }
   ],
   "source": [
    "s_voice_notes = list(sorted(Path(\"data/evaluation/audio/single_turn\").glob(\"Voice*\")))\n",
    "len(s_new_names), len(s_voice_notes)"
   ]
  },
  {
   "cell_type": "code",
   "execution_count": 56,
   "id": "34c621c6-5e57-40d8-884e-9b951bd50d99",
   "metadata": {},
   "outputs": [],
   "source": [
    "for old, new in zip(s_voice_notes, s_new_names):\n",
    "    old.rename(old.with_name(new))"
   ]
  },
  {
   "cell_type": "code",
   "execution_count": null,
   "id": "a2199d5d-eddf-48fd-b89c-55c7c24b9bf9",
   "metadata": {},
   "outputs": [],
   "source": []
  }
 ],
 "metadata": {
  "kernelspec": {
   "display_name": "Python 3 (ipykernel)",
   "language": "python",
   "name": "python3"
  },
  "language_info": {
   "codemirror_mode": {
    "name": "ipython",
    "version": 3
   },
   "file_extension": ".py",
   "mimetype": "text/x-python",
   "name": "python",
   "nbconvert_exporter": "python",
   "pygments_lexer": "ipython3",
   "version": "3.13.3"
  }
 },
 "nbformat": 4,
 "nbformat_minor": 5
}
