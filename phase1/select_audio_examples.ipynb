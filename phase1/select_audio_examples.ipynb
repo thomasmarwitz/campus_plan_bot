{
 "cells": [
  {
   "cell_type": "code",
   "execution_count": 1,
   "id": "61369a92-9ba1-4f3f-a390-d0261bba9e89",
   "metadata": {},
   "outputs": [],
   "source": [
    "from pathlib import Path\n",
    "import json#\n",
    "import random"
   ]
  },
  {
   "cell_type": "code",
   "execution_count": 2,
   "id": "374be9e1-930a-467d-9a7e-ea99dac7557c",
   "metadata": {},
   "outputs": [],
   "source": [
    "data = Path(\"data\") / \"evaluation\" / \"single_turn\""
   ]
  },
  {
   "cell_type": "code",
   "execution_count": 6,
   "id": "6db94265-5c88-4c17-a0c8-a9c4dccbe5a0",
   "metadata": {},
   "outputs": [
    {
     "data": {
      "text/plain": [
       "{'closed_until_synthetic': 100,\n",
       " 'opening_hours_synthetic': 100,\n",
       " 'open_until_synthetic': 100,\n",
       " 'open_website_synthetic': 100,\n",
       " 'wheelchair_accessible_synthetic': 100,\n",
       " 'navigation_link_synthetic': 50,\n",
       " 'building_location_synthetic': 85,\n",
       " 'open_now_synthetic': 100}"
      ]
     },
     "execution_count": 6,
     "metadata": {},
     "output_type": "execute_result"
    }
   ],
   "source": [
    "paths = [p for p in data.glob(\"*.json\") if \"fake\" not in str(p) and \"syn\" in str(p)]\n",
    "all_prompts = {p.stem: json.loads(p.read_text()) for p in paths}\n",
    "{k:len(v) for k,v in all_prompts.items()}"
   ]
  },
  {
   "cell_type": "code",
   "execution_count": 7,
   "id": "095fd6a4-142b-4e40-a26d-846c23f19767",
   "metadata": {},
   "outputs": [],
   "source": [
    "K = 10"
   ]
  },
  {
   "cell_type": "code",
   "execution_count": 8,
   "id": "88dcaf01-317c-4ff6-9798-8f870fd1aba7",
   "metadata": {},
   "outputs": [],
   "source": [
    "\n",
    "for name in (\"frederik\", \"thomas\"):\n",
    "    text = \"\"\n",
    "\n",
    "    for key, values in all_prompts.items():\n",
    "        text += f\"## {key}\\n\\n\"\n",
    "        sampled_nums = random.sample(list(range(len(values))), K)\n",
    "        sampled = [values[i] for i in sampled_nums]\n",
    "        text += \"\\n\".join(\"- [ ] \" + f\"({num:02d}) \" + v[\"prompts\"][0][\"reformulated_prompt\"] for v, num in zip(sampled, sampled_nums))\n",
    "        text += \"\\n\\n\"\n",
    "\n",
    "    (data.parent / \"audio\" / f\"{name}_audio_samples.md\").write_text(text)"
   ]
  },
  {
   "cell_type": "code",
   "execution_count": null,
   "id": "901c41df-fb96-4172-9d5e-2466d4f3e63b",
   "metadata": {},
   "outputs": [],
   "source": []
  }
 ],
 "metadata": {
  "kernelspec": {
   "display_name": "Python 3 (ipykernel)",
   "language": "python",
   "name": "python3"
  },
  "language_info": {
   "codemirror_mode": {
    "name": "ipython",
    "version": 3
   },
   "file_extension": ".py",
   "mimetype": "text/x-python",
   "name": "python",
   "nbconvert_exporter": "python",
   "pygments_lexer": "ipython3",
   "version": "3.13.3"
  }
 },
 "nbformat": 4,
 "nbformat_minor": 5
}
