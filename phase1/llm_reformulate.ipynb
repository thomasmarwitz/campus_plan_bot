{
 "cells": [
  {
   "cell_type": "code",
   "execution_count": 1,
   "id": "1a41e89a-1d7a-4f32-bb5a-077fc862de42",
   "metadata": {},
   "outputs": [],
   "source": [
    "from pathlib import Path\n",
    "import json\n",
    "from tqdm import tqdm\n",
    "import random\n",
    "import anthropic"
   ]
  },
  {
   "cell_type": "code",
   "execution_count": 2,
   "id": "d41ea06c-7d99-4a9e-85d4-1e2141080fb9",
   "metadata": {},
   "outputs": [],
   "source": [
    "data = Path(\"data\") / \"evaluation\" / \"single_turn\""
   ]
  },
  {
   "cell_type": "code",
   "execution_count": 3,
   "id": "71a4dd40-d607-4276-8028-d20f9fb6e0ff",
   "metadata": {},
   "outputs": [
    {
     "data": {
      "text/plain": [
       "{'building_location': 1128,\n",
       " 'wheelchair_accessible': 1128,\n",
       " 'open_now': 1211,\n",
       " 'closed_until': 1211,\n",
       " 'open_until': 1211,\n",
       " 'building_type': 828,\n",
       " 'navigation_link': 2256,\n",
       " 'opening_hours': 1128,\n",
       " 'building_category': 828,\n",
       " 'open_website': 2256}"
      ]
     },
     "execution_count": 3,
     "metadata": {},
     "output_type": "execute_result"
    }
   ],
   "source": [
    "paths = [p for p in data.glob(\"*.json\") if \"fake\" not in str(p) and \"syn\" not in str(p)]\n",
    "all_prompts = {p.stem: json.loads(p.read_text()) for p in paths}\n",
    "{k:len(v) for k,v in all_prompts.items()}"
   ]
  },
  {
   "cell_type": "code",
   "execution_count": 6,
   "id": "c2ced97e-6ced-43f1-9be2-4d6429700c38",
   "metadata": {},
   "outputs": [
    {
     "data": {
      "text/plain": [
       "{'building_location': 'Egon-Eiermann-Hörsaal',\n",
       " 'wheelchair_accessible': 'Egon-Eiermann-Hörsaal',\n",
       " 'open_now': 'Egon-Eiermann-Hörsaal',\n",
       " 'closed_until': 'Egon-Eiermann-Hörsaal',\n",
       " 'open_until': 'Egon-Eiermann-Hörsaal',\n",
       " 'building_type': 'Egon-Eiermann-Hörsaal',\n",
       " 'navigation_link': 'Egon-Eiermann-Hörsaal',\n",
       " 'opening_hours': 'Egon-Eiermann-Hörsaal',\n",
       " 'building_category': 'Egon-Eiermann-Hörsaal',\n",
       " 'open_website': 'Egon-Eiermann-Hörsaal'}"
      ]
     },
     "execution_count": 6,
     "metadata": {},
     "output_type": "execute_result"
    }
   ],
   "source": [
    "{k:v[0][\"prompts\"][0][\"input_data\"] for k,v in all_prompts.items()}"
   ]
  },
  {
   "cell_type": "code",
   "execution_count": 5,
   "id": "3c28e3a7-d65e-449f-bbe2-00c98663d585",
   "metadata": {},
   "outputs": [
    {
     "data": {
      "text/plain": [
       "{'building_location': 'Wo ist Gebäude Egon-Eiermann-Hörsaal?',\n",
       " 'wheelchair_accessible': 'Ist Gebäude Egon-Eiermann-Hörsaal rollstuhlgerecht?',\n",
       " 'open_now': 'Ist Gebäude Egon-Eiermann-Hörsaal grade geöffnet?',\n",
       " 'closed_until': 'Wann öffnet Gebäude Egon-Eiermann-Hörsaal?',\n",
       " 'open_until': 'Wie lange ist Gebäude Egon-Eiermann-Hörsaal noch geöffnet?',\n",
       " 'building_type': 'Was befindet sich in Gebäude Egon-Eiermann-Hörsaal?',\n",
       " 'navigation_link': 'Wie komme ich zu Gebäude Egon-Eiermann-Hörsaal?',\n",
       " 'opening_hours': 'Was sind die Öffnungszeiten von Gebäude Egon-Eiermann-Hörsaal?',\n",
       " 'building_category': 'Was für ein Gebäude ist Egon-Eiermann-Hörsaal?',\n",
       " 'open_website': 'Was ist die Webseite von Gebäude Egon-Eiermann-Hörsaal?'}"
      ]
     },
     "execution_count": 5,
     "metadata": {},
     "output_type": "execute_result"
    }
   ],
   "source": [
    "{k:v[0][\"prompts\"][0][\"prompt\"] for k,v in all_prompts.items()}"
   ]
  },
  {
   "cell_type": "markdown",
   "id": "9d03822e-3fb6-4674-bab0-a68a32ec8d30",
   "metadata": {},
   "source": [
    "# Plan\n",
    "\n",
    "Umformulieren von \"prompts\"\n",
    "Eingießen in Pydantic"
   ]
  },
  {
   "cell_type": "code",
   "execution_count": 27,
   "id": "f12c6259-a347-4d87-b51b-8708920d8215",
   "metadata": {},
   "outputs": [
    {
     "name": "stdout",
     "output_type": "stream",
     "text": [
      "building_location\n",
      "50 50\n",
      "wheelchair_accessible\n",
      "50 50\n",
      "open_now\n",
      "50 50\n",
      "closed_until\n",
      "50 50\n",
      "open_until\n",
      "50 50\n",
      "navigation_link\n",
      "50 0\n",
      "opening_hours\n",
      "50 50\n",
      "open_website\n",
      "50 50\n"
     ]
    }
   ],
   "source": [
    "process = {}\n",
    "\n",
    "for prompt_type in all_prompts.keys():\n",
    "    if prompt_type in (\"building_type\", \"building_category\"):\n",
    "        continue\n",
    "    \n",
    "    pos = []\n",
    "    neg = []\n",
    "    for prompt in all_prompts[prompt_type]:\n",
    "        if \"leider\" in str(prompt) or \"keine\" in str(prompt):\n",
    "            neg.append(prompt)\n",
    "        else:\n",
    "            pos.append(prompt)\n",
    "        \n",
    "    # sample 50 positives / 50 negatives per type\n",
    "    k_pos = min(50, len(pos))\n",
    "    k_neg = min(50, len(neg))\n",
    "    \n",
    "    sampled_pos = random.sample(pos, k_pos)\n",
    "    sampled_neg = random.sample(neg, k_neg)\n",
    "\n",
    "    print(prompt_type)\n",
    "    print(len(sampled_pos), len(sampled_neg))\n",
    "    process[prompt_type] = sampled_pos + sampled_neg\n",
    "    "
   ]
  },
  {
   "cell_type": "code",
   "execution_count": 33,
   "id": "4111d9c4-39ba-40ba-a5fd-2a81127b87f9",
   "metadata": {},
   "outputs": [],
   "source": [
    "API_KEY = \"<you wish, NSA :)>\""
   ]
  },
  {
   "cell_type": "code",
   "execution_count": 32,
   "id": "8eb4132f-3387-40cf-b790-fb25f2d422d0",
   "metadata": {},
   "outputs": [
    {
     "name": "stdout",
     "output_type": "stream",
     "text": [
      "building_location\n",
      "skipping building_location\n"
     ]
    },
    {
     "name": "stderr",
     "output_type": "stream",
     "text": [
      "100%|██████████████████████████████████████████████████████████| 4/4 [00:00<00:00, 28581.29it/s]\n"
     ]
    },
    {
     "name": "stdout",
     "output_type": "stream",
     "text": [
      "wheelchair_accessible\n",
      "skipping wheelchair_accessible\n"
     ]
    },
    {
     "name": "stderr",
     "output_type": "stream",
     "text": [
      "100%|███████████████████████████████████████████████████████████| 4/4 [00:00<00:00, 4473.92it/s]\n"
     ]
    },
    {
     "name": "stdout",
     "output_type": "stream",
     "text": [
      "open_now\n",
      "skipping open_now\n"
     ]
    },
    {
     "name": "stderr",
     "output_type": "stream",
     "text": [
      "100%|███████████████████████████████████████████████████████████| 4/4 [00:00<00:00, 1864.76it/s]\n"
     ]
    },
    {
     "name": "stdout",
     "output_type": "stream",
     "text": [
      "closed_until\n",
      "skipping closed_until\n"
     ]
    },
    {
     "name": "stderr",
     "output_type": "stream",
     "text": [
      "100%|██████████████████████████████████████████████████████████| 4/4 [00:00<00:00, 27962.03it/s]\n"
     ]
    },
    {
     "name": "stdout",
     "output_type": "stream",
     "text": [
      "open_until\n"
     ]
    },
    {
     "name": "stderr",
     "output_type": "stream",
     "text": [
      "100%|█████████████████████████████████████████████████████████████| 4/4 [00:08<00:00,  2.23s/it]\n"
     ]
    },
    {
     "name": "stdout",
     "output_type": "stream",
     "text": [
      "navigation_link\n"
     ]
    },
    {
     "name": "stderr",
     "output_type": "stream",
     "text": [
      "100%|█████████████████████████████████████████████████████████████| 2/2 [00:19<00:00,  9.79s/it]\n"
     ]
    },
    {
     "name": "stdout",
     "output_type": "stream",
     "text": [
      "opening_hours\n"
     ]
    },
    {
     "name": "stderr",
     "output_type": "stream",
     "text": [
      "100%|█████████████████████████████████████████████████████████████| 4/4 [00:38<00:00,  9.58s/it]\n"
     ]
    },
    {
     "name": "stdout",
     "output_type": "stream",
     "text": [
      "open_website\n"
     ]
    },
    {
     "name": "stderr",
     "output_type": "stream",
     "text": [
      "100%|█████████████████████████████████████████████████████████████| 4/4 [00:37<00:00,  9.26s/it]\n"
     ]
    }
   ],
   "source": [
    "client = anthropic.Anthropic(api_key=API_KEY)\n",
    "batch_size = 25\n",
    "\n",
    "system_prompt = (\n",
    "    \"You will receive a list of input prompts. For each, rewrite it in a different way \"\n",
    "    \"that retains the original meaning and intent, but uses different wording or phrasing. \"\n",
    "    \"Your output must be a single string, with all reformulated prompts in the same order, \"\n",
    "    \"separated ONLY by a vertical bar '|'. Do not include any extra text, formatting, or explanations. \"\n",
    ")\n",
    "\n",
    "for prompt_type, prompts in process.items():\n",
    "    print(prompt_type)\n",
    "    if prompt_type in (\"building_location\", \"wheelchair_accessible\", \"open_now\", \"closed_until\"):\n",
    "        print(\"skipping\", prompt_type)\n",
    "        continue\n",
    "    \n",
    "    for start in tqdm(range(0, len(prompts), batch_size)):\n",
    "        batch = prompts[start:start + batch_size]\n",
    "\n",
    "        # Skip batch if already processed\n",
    "        if \"reformulated_prompt\" in batch[0][\"prompts\"][0]:\n",
    "            continue\n",
    "\n",
    "        original_prompts = [p[\"prompts\"][0][\"prompt\"] for p in batch]\n",
    "        user_prompt = \"\\n\".join(original_prompts)\n",
    "\n",
    "        response = client.messages.create(\n",
    "            model=\"claude-3-5-sonnet-latest\",\n",
    "            max_tokens=1024,\n",
    "            temperature=1,\n",
    "            system=system_prompt,\n",
    "            messages=[{\"role\": \"user\", \"content\": user_prompt}]\n",
    "        )\n",
    "\n",
    "        reformulated = response.content[0].text.strip()\n",
    "        reformulated_list = [s.strip() for s in reformulated.split(\"|\")]\n",
    "\n",
    "        assert len(reformulated_list) == len(batch), \"Reformulated count mismatch.\"\n",
    "\n",
    "        for i, p in enumerate(batch):\n",
    "            p[\"prompts\"][0][\"reformulated_prompt\"] = reformulated_list[i]\n",
    "\n",
    "        p = data / f\"{prompt_type}_synthetic.json\"\n",
    "        p.write_text(json.dumps(prompts, indent=4))"
   ]
  },
  {
   "cell_type": "code",
   "execution_count": null,
   "id": "4194326c-8ace-4f1e-a09e-6af99eceff26",
   "metadata": {},
   "outputs": [],
   "source": []
  },
  {
   "cell_type": "code",
   "execution_count": 23,
   "id": "c64f8672-861e-4226-98fa-a152f0feb376",
   "metadata": {},
   "outputs": [
    {
     "data": {
      "text/plain": [
       "dict_keys(['building_location', 'wheelchair_accessible', 'open_now', 'closed_until', 'open_until', 'navigation_link', 'opening_hours', 'open_website'])"
      ]
     },
     "execution_count": 23,
     "metadata": {},
     "output_type": "execute_result"
    }
   ],
   "source": [
    "process.keys()"
   ]
  },
  {
   "cell_type": "code",
   "execution_count": null,
   "id": "a633399c-e6cc-477f-93d7-b5002ddeb15a",
   "metadata": {},
   "outputs": [],
   "source": []
  }
 ],
 "metadata": {
  "kernelspec": {
   "display_name": "Python 3 (ipykernel)",
   "language": "python",
   "name": "python3"
  },
  "language_info": {
   "codemirror_mode": {
    "name": "ipython",
    "version": 3
   },
   "file_extension": ".py",
   "mimetype": "text/x-python",
   "name": "python",
   "nbconvert_exporter": "python",
   "pygments_lexer": "ipython3",
   "version": "3.13.3"
  }
 },
 "nbformat": 4,
 "nbformat_minor": 5
}
