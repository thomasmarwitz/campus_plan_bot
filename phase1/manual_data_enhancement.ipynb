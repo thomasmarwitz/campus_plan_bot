{
 "cells": [
  {
   "cell_type": "code",
   "execution_count": 619,
   "id": "c6c87b70-f4e9-4330-82bf-9c5441cee658",
   "metadata": {},
   "outputs": [],
   "source": [
    "import pandas as pd\n",
    "import numpy as np\n",
    "from pathlib import Path\n",
    "import re\n",
    "\n",
    "df = pd.read_csv(\"data/campusplan_enriched.csv\")"
   ]
  },
  {
   "cell_type": "code",
   "execution_count": 620,
   "id": "8a9f5bbd-793c-4ae4-a561-f095dbc47f5f",
   "metadata": {},
   "outputs": [],
   "source": [
    "# remove building IDs from natural language names\n",
    "ID_pattern = r' \\(\\d{2}\\.\\d{2}\\)'\n",
    "df['title'] = df['title'].astype(str).str.replace(ID_pattern, '', regex=True)"
   ]
  },
  {
   "cell_type": "code",
   "execution_count": 621,
   "id": "96532d84-d5c5-4f41-a257-8c71ae057c7f",
   "metadata": {},
   "outputs": [],
   "source": [
    "# replace categorys with German translations\n",
    "df['category'] = df['category'].astype(str).str.replace('lecturehall', 'Hörsaal', regex=False)\n",
    "df['category'] = df['category'].astype(str).str.replace('institute', 'Institut', regex=False)\n",
    "df['category'] = df['category'].astype(str).str.replace('facility', 'Einrichtung', regex=False)\n",
    "df.loc[df['category'].str.contains('building', na=False), 'category'] = np.nan"
   ]
  },
  {
   "cell_type": "code",
   "execution_count": 622,
   "id": "8cb9e5dd-e368-4f3b-a8c1-a2b3357a797c",
   "metadata": {},
   "outputs": [],
   "source": [
    "# remove all types that are not buildings\n",
    "non_building_types = ['fire_extinguisher', 'house', 'outdoor_seating', 'first_aid_kit', 'pedestrian', 'reception_desk', 'unclassified', 'works', 'elevator', 'platform', 'bus_stop', 'grit_bin', 'insurance', 'track', 'internet_cafe', 'garden', 'yes', 'fire_alarm_box', 'university', 'path']\n",
    "for type in non_building_types:\n",
    "    df.loc[df['rev_type'].str.contains(type, na=False), 'rev_type'] = np.nan"
   ]
  },
  {
   "cell_type": "code",
   "execution_count": 623,
   "id": "8c4fdda1-35f4-4cf5-aa5f-053f9d523840",
   "metadata": {},
   "outputs": [],
   "source": [
    "# translate building types to German\n",
    "building_types_en = ['library', 'bicycle_parking', 'atm', 'auditorium', 'toilets', 'doctors', 'kitchen', 'garage', 'language_school', 'administrative', 'artwork', 'stadium', 'food_sharing', 'greenhouse', 'parking', 'kindergarten', 'sports_centre', 'memorial', 'government', 'office', 'dormitory', 'research_institute', 'research', 'residential', 'apartments', 'restaurant', 'cafe', 'education_centre', 'canteen', 'service', 'fire_station', 'tower', 'company', 'commercial', 'retail', 'association', 'hackerspace']\n",
    "building_types_de = ['Bibliothek', 'Fahrradstellplätze', 'Bankautomat', 'Auditorium', 'Toiletten', 'Ärzte', 'Küche', 'Garage', 'Sprachschule', 'Verwaltung', 'Kunstwerk', 'Stadion', 'Foodsharing', 'Gewächshaus', 'Parkplatz', 'Kindergarten', 'Sportzentrum', 'Denkmal', 'Regierung', 'Büro', 'Wohnheim', 'Forschungsinstitut', 'Forschung', 'Wohnen', 'Apartments', 'Restaurant', 'Cafe', 'Bildungszentrum', 'Kantine', 'Service', 'Feuerwehr', 'Turm', 'Unternehmen', 'Kommerziell', 'Einzelhandel', 'Verein', 'Hackerspace']\n",
    "\n",
    "for index, type_en in enumerate(building_types_en):\n",
    "    df.loc[df['rev_type'].str.contains(type_en, na=False), 'rev_type'] = building_types_de[index]"
   ]
  },
  {
   "cell_type": "code",
   "execution_count": 624,
   "id": "7d1f3f2c-8ca3-4f55-96f9-031492238746",
   "metadata": {},
   "outputs": [],
   "source": [
    "# remove names not fitting buildings\n",
    "non_building_names = ['Bruchsaler Straße', 'Büchenauer Straße', 'Neureuter Straße', 'Friedrichstaler Straße', 'Eggensteiner Straße', 'Leopoldshafener Allee', 'Blankenlocher Straße', 'Karlsruher Allee', 'Linkenheimer Straße', 'Weingartener Straße', 'Spöcker Straße', 'Neutharder Straße', 'Campus Nord', 'Hochstetter Straße', 'Karlsruher Institut für Technologie', 'Büchiger Allee']\n",
    "for name in non_building_names:\n",
    "    df.loc[df['rev_name'].str.contains(name, na=False), 'rev_name'] = np.nan\n",
    "\n",
    "name_id_pattern = r'\\d{2}\\.\\d{2}'\n",
    "df.loc[df['rev_name'].str.contains(pat = name_id_pattern, regex=True, na=False), 'rev_name'] = np.nan\n",
    "name_num_pattern = r'\\d{3}'\n",
    "df.loc[df['rev_name'].str.contains(pat = name_num_pattern, regex=True, na=False), 'rev_name'] = np.nan"
   ]
  },
  {
   "cell_type": "code",
   "execution_count": 625,
   "id": "905fd7b4-9cdd-4b71-828e-d9efe9f16d5f",
   "metadata": {},
   "outputs": [],
   "source": [
    "# remove any address that contains no further info than that the building is part of KIT\n",
    "generic_KIT_address = 'Karlsruher Institut für Technologie, Ehingen (Donau), Gemeindeverwaltungsverband Ehingen (Donau), Alb-Donau-Kreis, Baden-Württemberg, 89584, Deutschland'\n",
    "df.loc[df['rev_display_name'].str.contains(generic_KIT_address, regex=False, na=False), 'rev_display_name'] = np.nan"
   ]
  },
  {
   "cell_type": "code",
   "execution_count": 626,
   "id": "d5562af6-df0b-4740-ae57-4b5906f1d14a",
   "metadata": {},
   "outputs": [],
   "source": [
    "# remove columns that are unused in evaluation\n",
    "df = df.drop('aliasList', axis=1)\n",
    "df = df.drop('rev_category', axis=1)\n",
    "df = df.drop('det_contact:phone', axis=1)"
   ]
  },
  {
   "cell_type": "code",
   "execution_count": 627,
   "id": "a2d26a02-84a6-4704-b631-5be729129b96",
   "metadata": {},
   "outputs": [],
   "source": [
    "# rename columns\n",
    "df.rename(columns={'title': 'identifikator'}, inplace=True)\n",
    "df.rename(columns={'category': 'kategorie'}, inplace=True)\n",
    "df.rename(columns={'positionList': 'koordinaten'}, inplace=True)\n",
    "df.rename(columns={'url': 'webseite'}, inplace=True)\n",
    "df.rename(columns={'rev_type': 'funktion'}, inplace=True)\n",
    "df.rename(columns={'rev_name': 'name'}, inplace=True)\n",
    "df.rename(columns={'rev_display_name': 'adresse'}, inplace=True)\n",
    "df.rename(columns={'det_opening_hours': 'oeffnungszeiten'}, inplace=True)\n",
    "df.rename(columns={'det_wheelchair': 'rollstuhlgerechtigkeit'}, inplace=True)\n",
    "df.rename(columns={'det_wheelchair:description': 'rollstuhlbeschreibung'}, inplace=True)"
   ]
  },
  {
   "cell_type": "code",
   "execution_count": 628,
   "id": "573f614a-92ac-490b-bc81-54651668fb5a",
   "metadata": {},
   "outputs": [],
   "source": [
    "def restructure_address(address):\n",
    "    # Split the address by commas\n",
    "    parts = [part.strip() for part in address.split(\",\")]\n",
    "    \n",
    "    # Remove the copy of the name in front of the address\n",
    "    if len(parts) == 9 and not re.search(r'(campus)', parts[0], re.IGNORECASE):\n",
    "        parts = parts[1:]\n",
    "    elif len(parts) == 10:\n",
    "        parts = parts[2:]\n",
    "\n",
    "    # Remove all remaining leading names that are not places (streets, places, allys, etc.)\n",
    "    if parts and not (re.search(r'(strasse|straße|allee|ring|platz|weg|hof|park|heim|hafen|\\d+)', parts[0], re.IGNORECASE) or parts[0] == \"Campus Nord\"):\n",
    "            # print(parts[0]) # print what has been removed\n",
    "            parts = parts[1:]\n",
    "    if parts and re.search(r'^\\d{1,2}\\.\\d{1,2}$', parts[0]):\n",
    "            # print(parts[0]) # print what has been removed\n",
    "            parts = parts[1:]\n",
    "\n",
    "    # Remove all leading bulding IDs\n",
    "    if parts and re.match(r'^\\d', parts[0]):\n",
    "        parts[0], parts[1] = parts[1], parts[0]\n",
    "\n",
    "    # Remove trailing \"Deutschland\"\n",
    "    parts = parts[0:-1]\n",
    "\n",
    "    # Move PLZ to own list for separate column\n",
    "    plz = parts.pop() if parts else None\n",
    "\n",
    "    # Remove \"Baden-Würtemberg\" and \"Karlsruhe\"\n",
    "    parts = parts[0:-2]\n",
    "    if parts and parts[-1] == \"Karlsruhe\":\n",
    "        parts = parts[0:-1]\n",
    "\n",
    "    # Remove the less usefull of the two area/quarter names\n",
    "    if parts:\n",
    "        if len(parts) == 4:\n",
    "            if parts[2] == \"Leopoldshafen\":\n",
    "                parts.pop(3)\n",
    "            else:\n",
    "                parts.pop(2)\n",
    "        elif len(parts) == 3:\n",
    "            if parts[1] == \"Leopoldshafen\":\n",
    "                parts.pop(2)\n",
    "            else:\n",
    "                parts.pop(1)\n",
    "\n",
    "    # Move quarters to separate column\n",
    "    quarter = parts.pop() if parts else None\n",
    "\n",
    "    # Join the parts of the address together\n",
    "    address = \", \".join(parts)\n",
    "\n",
    "    # Remove the separator between the street name and house number\n",
    "    if address and re.search(r',\\s\\d', address):\n",
    "        address = address.replace(\",\", \"\", 1)\n",
    "    \n",
    "    return address, plz, quarter\n",
    "\n",
    "\n",
    "for index, row in df.iterrows():\n",
    "    # Example: Modify the value\n",
    "    adress = row['adresse']\n",
    "    if not pd.isna(adress):\n",
    "        df.at[index, 'adresse'], df.at[index, 'postleitzahl'],  df.at[index, 'stadtviertel'] = restructure_address(adress)\n",
    "\n",
    "# Move PLZ and quarter column behind the address column\n",
    "plz = df.columns[-2]\n",
    "quarter = df.columns[-1]\n",
    "new_order = df.columns[:-2].tolist()\n",
    "new_order.insert(8, plz)\n",
    "new_order.insert(9, quarter)\n",
    "df = df[new_order]"
   ]
  },
  {
   "cell_type": "code",
   "execution_count": 629,
   "id": "519830cd-3a00-4730-b05e-c006a1b40097",
   "metadata": {},
   "outputs": [],
   "source": [
    "# export to separate file\n",
    "data_base = Path(\"data\")\n",
    "df.to_csv(data_base / \"campusplan_evaluation.csv\", index=False)"
   ]
  },
  {
   "cell_type": "code",
   "execution_count": null,
   "id": "aeda6e2d-d13f-43c3-9ec7-39e37d938285",
   "metadata": {},
   "outputs": [],
   "source": []
  }
 ],
 "metadata": {
  "kernelspec": {
   "display_name": "Python 3 (ipykernel)",
   "language": "python",
   "name": "python3"
  },
  "language_info": {
   "codemirror_mode": {
    "name": "ipython",
    "version": 3
   },
   "file_extension": ".py",
   "mimetype": "text/x-python",
   "name": "python",
   "nbconvert_exporter": "python",
   "pygments_lexer": "ipython3",
   "version": "3.13.0"
  }
 },
 "nbformat": 4,
 "nbformat_minor": 5
}
