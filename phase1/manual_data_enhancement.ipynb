{
 "cells": [
  {
   "cell_type": "code",
   "execution_count": 181,
   "id": "c6c87b70-f4e9-4330-82bf-9c5441cee658",
   "metadata": {},
   "outputs": [],
   "source": [
    "import pandas as pd\n",
    "import numpy as np\n",
    "from pathlib import Path\n",
    "\n",
    "df = pd.read_csv(\"data/campusplan_enriched.csv\")"
   ]
  },
  {
   "cell_type": "code",
   "execution_count": 182,
   "id": "8a9f5bbd-793c-4ae4-a561-f095dbc47f5f",
   "metadata": {},
   "outputs": [],
   "source": [
    "# remove building IDs from natural language names\n",
    "ID_pattern = r' \\(\\d{2}\\.\\d{2}\\)'\n",
    "df['title'] = df['title'].astype(str).str.replace(ID_pattern, '', regex=True)"
   ]
  },
  {
   "cell_type": "code",
   "execution_count": 183,
   "id": "96532d84-d5c5-4f41-a257-8c71ae057c7f",
   "metadata": {},
   "outputs": [],
   "source": [
    "# replace categorys with German translations\n",
    "df['category'] = df['category'].astype(str).str.replace('lecturehall', 'Hörsaal', regex=False)\n",
    "df['category'] = df['category'].astype(str).str.replace('institute', 'Institut', regex=False)\n",
    "df['category'] = df['category'].astype(str).str.replace('facility', 'Einrichtung', regex=False)\n",
    "df.loc[df['category'].str.contains('building', na=False), 'category'] = np.nan"
   ]
  },
  {
   "cell_type": "code",
   "execution_count": 184,
   "id": "8cb9e5dd-e368-4f3b-a8c1-a2b3357a797c",
   "metadata": {},
   "outputs": [],
   "source": [
    "# remove all types that are not buildings\n",
    "non_building_types = ['fire_extinguisher', 'house', 'outdoor_seating', 'first_aid_kit', 'pedestrian', 'reception_desk', 'unclassified', 'works', 'elevator', 'platform', 'bus_stop', 'grit_bin', 'insurance', 'track', 'internet_cafe', 'garden', 'yes', 'fire_alarm_box', 'university', 'path']\n",
    "for type in non_building_types:\n",
    "    df.loc[df['rev_type'].str.contains(type, na=False), 'rev_type'] = np.nan"
   ]
  },
  {
   "cell_type": "code",
   "execution_count": 185,
   "id": "8c4fdda1-35f4-4cf5-aa5f-053f9d523840",
   "metadata": {},
   "outputs": [],
   "source": [
    "# translate building types to German\n",
    "building_types_en = ['library', 'bicycle_parking', 'atm', 'auditorium', 'toilets', 'doctors', 'kitchen', 'garage', 'language_school', 'administrative', 'artwork', 'stadium', 'food_sharing', 'greenhouse', 'parking', 'kindergarten', 'sports_centre', 'memorial', 'government', 'office', 'dormitory', 'research_institute', 'research', 'residential', 'apartments', 'restaurant', 'cafe', 'education_centre', 'canteen', 'service', 'fire_station', 'tower', 'company', 'commercial', 'retail', 'association', 'hackerspace']\n",
    "building_types_de = ['Bibliothek', 'Fahrradstellplätze', 'Bankautomat', 'Auditorium', 'Toiletten', 'Ärzte', 'Küche', 'Garage', 'Sprachschule', 'Verwaltung', 'Kunstwerk', 'Stadion', 'Foodsharing', 'Gewächshaus', 'Parkplatz', 'Kindergarten', 'Sportzentrum', 'Denkmal', 'Regierung', 'Büro', 'Wohnheim', 'Forschungsinstitut', 'Forschung', 'Wohnen', 'Apartments', 'Restaurant', 'Cafe', 'Bildungszentrum', 'Kantine', 'Service', 'Feuerwehr', 'Turm', 'Unternehmen', 'Kommerziell', 'Einzelhandel', 'Verein', 'Hackerspace']\n",
    "\n",
    "for index, type_en in enumerate(building_types_en):\n",
    "    df.loc[df['rev_type'].str.contains(type_en, na=False), 'rev_type'] = building_types_de[index]"
   ]
  },
  {
   "cell_type": "code",
   "execution_count": 186,
   "id": "7d1f3f2c-8ca3-4f55-96f9-031492238746",
   "metadata": {},
   "outputs": [],
   "source": [
    "# remove names not fitting buildings\n",
    "non_building_names = ['Bruchsaler Straße', 'Büchenauer Straße', 'Neureuter Straße', 'Friedrichstaler Straße', 'Eggensteiner Straße', 'Leopoldshafener Allee', 'Blankenlocher Straße', 'Karlsruher Allee', 'Linkenheimer Straße', 'Weingartener Straße', 'Spöcker Straße', 'Neutharder Straße', 'Campus Nord', 'Hochstetter Straße', 'Karlsruher Institut für Technologie', 'Büchiger Allee']\n",
    "for name in non_building_names:\n",
    "    df.loc[df['rev_name'].str.contains(name, na=False), 'rev_name'] = np.nan\n",
    "\n",
    "name_id_pattern = r'\\d{2}\\.\\d{2}'\n",
    "df.loc[df['rev_name'].str.contains(pat = name_id_pattern, regex=True, na=False), 'rev_name'] = np.nan\n",
    "name_num_pattern = r'\\d{3}'\n",
    "df.loc[df['rev_name'].str.contains(pat = name_num_pattern, regex=True, na=False), 'rev_name'] = np.nan"
   ]
  },
  {
   "cell_type": "code",
   "execution_count": 187,
   "id": "905fd7b4-9cdd-4b71-828e-d9efe9f16d5f",
   "metadata": {},
   "outputs": [],
   "source": [
    "# remove any address that contains no further info than that the building is part of KIT\n",
    "generic_KIT_address = 'Karlsruher Institut für Technologie, Ehingen (Donau), Gemeindeverwaltungsverband Ehingen (Donau), Alb-Donau-Kreis, Baden-Württemberg, 89584, Deutschland'\n",
    "df.loc[df['rev_display_name'].str.contains(generic_KIT_address, regex=False, na=False), 'rev_display_name'] = np.nan"
   ]
  },
  {
   "cell_type": "code",
   "execution_count": 188,
   "id": "d5562af6-df0b-4740-ae57-4b5906f1d14a",
   "metadata": {},
   "outputs": [],
   "source": [
    "# remove columns that are unused in evaluation\n",
    "df = df.drop('aliasList', axis=1)\n",
    "df = df.drop('rev_category', axis=1)\n",
    "df = df.drop('det_contact:phone', axis=1)"
   ]
  },
  {
   "cell_type": "code",
   "execution_count": 189,
   "id": "519830cd-3a00-4730-b05e-c006a1b40097",
   "metadata": {},
   "outputs": [],
   "source": [
    "# export to separate file\n",
    "data_base = Path(\"data\")\n",
    "df.to_csv(data_base / \"campusplan_evaluation.csv\", index=False)"
   ]
  },
  {
   "cell_type": "code",
   "execution_count": null,
   "id": "aeda6e2d-d13f-43c3-9ec7-39e37d938285",
   "metadata": {},
   "outputs": [],
   "source": []
  }
 ],
 "metadata": {
  "kernelspec": {
   "display_name": "Python 3 (ipykernel)",
   "language": "python",
   "name": "python3"
  },
  "language_info": {
   "codemirror_mode": {
    "name": "ipython",
    "version": 3
   },
   "file_extension": ".py",
   "mimetype": "text/x-python",
   "name": "python",
   "nbconvert_exporter": "python",
   "pygments_lexer": "ipython3",
   "version": "3.13.0"
  }
 },
 "nbformat": 4,
 "nbformat_minor": 5
}
