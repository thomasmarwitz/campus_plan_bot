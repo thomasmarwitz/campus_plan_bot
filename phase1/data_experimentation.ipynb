{
 "cells": [
  {
   "cell_type": "code",
   "execution_count": 41,
   "id": "6b3e8cad-0879-488d-b54e-df5626332a58",
   "metadata": {},
   "outputs": [],
   "source": [
    "import json\n",
    "from pathlib import Path\n",
    "import pandas as pd\n",
    "from collections import Counter\n",
    "import requests\n",
    "import os\n",
    "from tqdm import tqdm"
   ]
  },
  {
   "cell_type": "code",
   "execution_count": 51,
   "id": "a1bfeffa-7f6f-4c89-98a8-5891704bcbb3",
   "metadata": {},
   "outputs": [],
   "source": [
    "data_base = Path(\"data\")"
   ]
  },
  {
   "cell_type": "code",
   "execution_count": 22,
   "id": "e9d67721-5318-4665-aaa5-32e05ecc9a94",
   "metadata": {},
   "outputs": [
    {
     "data": {
      "text/plain": [
       "{'id': 1,\n",
       " 'title': 'Egon-Eiermann-Hörsaal (20.40)',\n",
       " 'category': 'lecturehall',\n",
       " 'aliasList': [],\n",
       " 'positionList': [['49.01097', '8.41095']],\n",
       " 'url': None}"
      ]
     },
     "execution_count": 22,
     "metadata": {},
     "output_type": "execute_result"
    }
   ],
   "source": [
    "data = json.loads(Path(\"data/campusplan.json\").read_text())\n",
    "data[0]"
   ]
  },
  {
   "cell_type": "code",
   "execution_count": 29,
   "id": "5bb94c7e-496f-42a1-91b6-7e4153deb87d",
   "metadata": {},
   "outputs": [
    {
     "data": {
      "text/plain": [
       "821"
      ]
     },
     "execution_count": 29,
     "metadata": {},
     "output_type": "execute_result"
    }
   ],
   "source": [
    "df = pd.DataFrame(data)\n",
    "len(df)"
   ]
  },
  {
   "cell_type": "markdown",
   "id": "3631ff42-a1e5-4f02-b996-71cbe9761c70",
   "metadata": {},
   "source": [
    "## Some entries have 2 positions"
   ]
  },
  {
   "cell_type": "code",
   "execution_count": 30,
   "id": "74212c78-0efa-41f2-89bd-7f15328c5eb4",
   "metadata": {},
   "outputs": [
    {
     "data": {
      "text/plain": [
       "Counter({1: 814, 2: 7})"
      ]
     },
     "execution_count": 30,
     "metadata": {},
     "output_type": "execute_result"
    }
   ],
   "source": [
    "Counter(df.positionList.apply(len))"
   ]
  },
  {
   "cell_type": "code",
   "execution_count": 31,
   "id": "f85365ab-490f-48db-8a59-b9e1a518f68a",
   "metadata": {},
   "outputs": [
    {
     "data": {
      "text/html": [
       "<div>\n",
       "<style scoped>\n",
       "    .dataframe tbody tr th:only-of-type {\n",
       "        vertical-align: middle;\n",
       "    }\n",
       "\n",
       "    .dataframe tbody tr th {\n",
       "        vertical-align: top;\n",
       "    }\n",
       "\n",
       "    .dataframe thead th {\n",
       "        text-align: right;\n",
       "    }\n",
       "</style>\n",
       "<table border=\"1\" class=\"dataframe\">\n",
       "  <thead>\n",
       "    <tr style=\"text-align: right;\">\n",
       "      <th></th>\n",
       "      <th>id</th>\n",
       "      <th>title</th>\n",
       "      <th>category</th>\n",
       "      <th>aliasList</th>\n",
       "      <th>positionList</th>\n",
       "      <th>url</th>\n",
       "    </tr>\n",
       "  </thead>\n",
       "  <tbody>\n",
       "    <tr>\n",
       "      <th>544</th>\n",
       "      <td>554</td>\n",
       "      <td>Thermische Strömungsmaschinen, Institut für</td>\n",
       "      <td>institute</td>\n",
       "      <td>[]</td>\n",
       "      <td>[[49.01253, 8.41661], [49.00990, 8.41322]]</td>\n",
       "      <td>http://www.its.kit.edu</td>\n",
       "    </tr>\n",
       "    <tr>\n",
       "      <th>566</th>\n",
       "      <td>581</td>\n",
       "      <td>Technikzukünfte - Philosophie, Institut für</td>\n",
       "      <td>institute</td>\n",
       "      <td>[]</td>\n",
       "      <td>[[49.00948, 8.39325], [49.01257, 8.40664]]</td>\n",
       "      <td>http://www.philosophie.kit.edu/</td>\n",
       "    </tr>\n",
       "    <tr>\n",
       "      <th>690</th>\n",
       "      <td>745</td>\n",
       "      <td>Zentrum für Mediales Lernen (ZML)</td>\n",
       "      <td>facility</td>\n",
       "      <td>[]</td>\n",
       "      <td>[[49.00751, 8.40425], [49.01136, 8.41887]]</td>\n",
       "      <td>http://www.zml.kit.edu/</td>\n",
       "    </tr>\n",
       "    <tr>\n",
       "      <th>694</th>\n",
       "      <td>750</td>\n",
       "      <td>MINT-Kolleg</td>\n",
       "      <td>facility</td>\n",
       "      <td>[]</td>\n",
       "      <td>[[49.01126, 8.40903], [49.01035, 8.41879]]</td>\n",
       "      <td>https://www.mint-kolleg.kit.edu/</td>\n",
       "    </tr>\n",
       "    <tr>\n",
       "      <th>709</th>\n",
       "      <td>769</td>\n",
       "      <td>Fachschaft WiWi</td>\n",
       "      <td>institute</td>\n",
       "      <td>[]</td>\n",
       "      <td>[[49.00918, 8.40966], [49.01265, 8.40663]]</td>\n",
       "      <td>http://www.fachschaft.org/</td>\n",
       "    </tr>\n",
       "    <tr>\n",
       "      <th>771</th>\n",
       "      <td>842</td>\n",
       "      <td>40.50</td>\n",
       "      <td>building</td>\n",
       "      <td>[]</td>\n",
       "      <td>[[49.01418, 8.41438], [49.01418, 8.41438]]</td>\n",
       "      <td>None</td>\n",
       "    </tr>\n",
       "    <tr>\n",
       "      <th>772</th>\n",
       "      <td>843</td>\n",
       "      <td>40.51</td>\n",
       "      <td>building</td>\n",
       "      <td>[]</td>\n",
       "      <td>[[49.01414, 8.41491], [49.01414, 8.41491]]</td>\n",
       "      <td>None</td>\n",
       "    </tr>\n",
       "  </tbody>\n",
       "</table>\n",
       "</div>"
      ],
      "text/plain": [
       "      id                                        title   category aliasList  \\\n",
       "544  554  Thermische Strömungsmaschinen, Institut für  institute        []   \n",
       "566  581  Technikzukünfte - Philosophie, Institut für  institute        []   \n",
       "690  745            Zentrum für Mediales Lernen (ZML)   facility        []   \n",
       "694  750                                  MINT-Kolleg   facility        []   \n",
       "709  769                              Fachschaft WiWi  institute        []   \n",
       "771  842                                        40.50   building        []   \n",
       "772  843                                        40.51   building        []   \n",
       "\n",
       "                                   positionList  \\\n",
       "544  [[49.01253, 8.41661], [49.00990, 8.41322]]   \n",
       "566  [[49.00948, 8.39325], [49.01257, 8.40664]]   \n",
       "690  [[49.00751, 8.40425], [49.01136, 8.41887]]   \n",
       "694  [[49.01126, 8.40903], [49.01035, 8.41879]]   \n",
       "709  [[49.00918, 8.40966], [49.01265, 8.40663]]   \n",
       "771  [[49.01418, 8.41438], [49.01418, 8.41438]]   \n",
       "772  [[49.01414, 8.41491], [49.01414, 8.41491]]   \n",
       "\n",
       "                                  url  \n",
       "544            http://www.its.kit.edu  \n",
       "566   http://www.philosophie.kit.edu/  \n",
       "690           http://www.zml.kit.edu/  \n",
       "694  https://www.mint-kolleg.kit.edu/  \n",
       "709        http://www.fachschaft.org/  \n",
       "771                              None  \n",
       "772                              None  "
      ]
     },
     "execution_count": 31,
     "metadata": {},
     "output_type": "execute_result"
    }
   ],
   "source": [
    "df[df.positionList.apply(len) == 2]"
   ]
  },
  {
   "cell_type": "markdown",
   "id": "d712fe79-4ed6-4aeb-9e7e-a13791db293b",
   "metadata": {},
   "source": [
    "We deal with this (in the pandas world) by exploding based on the positionList. We do this because in the following data enrichment, we want to have a unique position (lat and long) per row.\n",
    "\n",
    "Later, we perhaps want a normalized SQL schema."
   ]
  },
  {
   "cell_type": "code",
   "execution_count": 32,
   "id": "6f3ad33a-dcba-48b0-a518-748f283e1bc1",
   "metadata": {},
   "outputs": [
    {
     "data": {
      "text/plain": [
       "828"
      ]
     },
     "execution_count": 32,
     "metadata": {},
     "output_type": "execute_result"
    }
   ],
   "source": [
    "df = df.explode(\"positionList\")\n",
    "len(df)"
   ]
  },
  {
   "cell_type": "code",
   "execution_count": 34,
   "id": "bedb68ab-1c2d-4958-9b54-549cfc7e7fbd",
   "metadata": {},
   "outputs": [
    {
     "data": {
      "text/html": [
       "<div>\n",
       "<style scoped>\n",
       "    .dataframe tbody tr th:only-of-type {\n",
       "        vertical-align: middle;\n",
       "    }\n",
       "\n",
       "    .dataframe tbody tr th {\n",
       "        vertical-align: top;\n",
       "    }\n",
       "\n",
       "    .dataframe thead th {\n",
       "        text-align: right;\n",
       "    }\n",
       "</style>\n",
       "<table border=\"1\" class=\"dataframe\">\n",
       "  <thead>\n",
       "    <tr style=\"text-align: right;\">\n",
       "      <th></th>\n",
       "      <th>id</th>\n",
       "      <th>title</th>\n",
       "      <th>category</th>\n",
       "      <th>aliasList</th>\n",
       "      <th>positionList</th>\n",
       "      <th>url</th>\n",
       "    </tr>\n",
       "  </thead>\n",
       "  <tbody>\n",
       "    <tr>\n",
       "      <th>0</th>\n",
       "      <td>1</td>\n",
       "      <td>Egon-Eiermann-Hörsaal (20.40)</td>\n",
       "      <td>lecturehall</td>\n",
       "      <td>[]</td>\n",
       "      <td>[49.01097, 8.41095]</td>\n",
       "      <td>None</td>\n",
       "    </tr>\n",
       "    <tr>\n",
       "      <th>1</th>\n",
       "      <td>2</td>\n",
       "      <td>Sport-Hörsaal (40.40)</td>\n",
       "      <td>lecturehall</td>\n",
       "      <td>[]</td>\n",
       "      <td>[49.01580, 8.41636]</td>\n",
       "      <td>None</td>\n",
       "    </tr>\n",
       "    <tr>\n",
       "      <th>2</th>\n",
       "      <td>3</td>\n",
       "      <td>Hochspannungstechnik-Hörsaal (30.35)</td>\n",
       "      <td>lecturehall</td>\n",
       "      <td>[]</td>\n",
       "      <td>[49.01197, 8.41272]</td>\n",
       "      <td>None</td>\n",
       "    </tr>\n",
       "    <tr>\n",
       "      <th>3</th>\n",
       "      <td>4</td>\n",
       "      <td>Johann-Gottfried-Tulla-Hörsaal (11.40)</td>\n",
       "      <td>lecturehall</td>\n",
       "      <td>[]</td>\n",
       "      <td>[49.01023, 8.41187]</td>\n",
       "      <td>None</td>\n",
       "    </tr>\n",
       "    <tr>\n",
       "      <th>4</th>\n",
       "      <td>5</td>\n",
       "      <td>Hörsaal am Fasanengarten (50.35)</td>\n",
       "      <td>lecturehall</td>\n",
       "      <td>[]</td>\n",
       "      <td>[49.01472, 8.42042]</td>\n",
       "      <td>None</td>\n",
       "    </tr>\n",
       "  </tbody>\n",
       "</table>\n",
       "</div>"
      ],
      "text/plain": [
       "   id                                   title     category aliasList  \\\n",
       "0   1           Egon-Eiermann-Hörsaal (20.40)  lecturehall        []   \n",
       "1   2                   Sport-Hörsaal (40.40)  lecturehall        []   \n",
       "2   3    Hochspannungstechnik-Hörsaal (30.35)  lecturehall        []   \n",
       "3   4  Johann-Gottfried-Tulla-Hörsaal (11.40)  lecturehall        []   \n",
       "4   5        Hörsaal am Fasanengarten (50.35)  lecturehall        []   \n",
       "\n",
       "          positionList   url  \n",
       "0  [49.01097, 8.41095]  None  \n",
       "1  [49.01580, 8.41636]  None  \n",
       "2  [49.01197, 8.41272]  None  \n",
       "3  [49.01023, 8.41187]  None  \n",
       "4  [49.01472, 8.42042]  None  "
      ]
     },
     "execution_count": 34,
     "metadata": {},
     "output_type": "execute_result"
    }
   ],
   "source": [
    "df.head()"
   ]
  },
  {
   "cell_type": "code",
   "execution_count": 52,
   "id": "14cfb786-f465-4c97-98c1-b1e418e0a9df",
   "metadata": {},
   "outputs": [],
   "source": [
    "df.to_csv(data_base / \"campusplan.csv\", index=False)"
   ]
  },
  {
   "cell_type": "markdown",
   "id": "cc6e6c79-b494-461e-bfe0-58f16f716f82",
   "metadata": {},
   "source": [
    "## Data enrichment"
   ]
  },
  {
   "cell_type": "code",
   "execution_count": 37,
   "id": "6a11906a-9da3-4294-885c-020da8da1925",
   "metadata": {},
   "outputs": [
    {
     "data": {
      "text/plain": [
       "id                                          1\n",
       "title           Egon-Eiermann-Hörsaal (20.40)\n",
       "category                          lecturehall\n",
       "aliasList                                  []\n",
       "positionList              [49.01097, 8.41095]\n",
       "url                                      None\n",
       "Name: 0, dtype: object"
      ]
     },
     "execution_count": 37,
     "metadata": {},
     "output_type": "execute_result"
    }
   ],
   "source": [
    "df.loc[0]"
   ]
  },
  {
   "cell_type": "code",
   "execution_count": 60,
   "id": "d2f8fc92-c7ce-4a9f-a468-45a6a560d7b4",
   "metadata": {},
   "outputs": [],
   "source": [
    "def reverse_geocode(lat, lon):\n",
    "    url = f\"https://nominatim.openstreetmap.org/reverse?format=geojson&lat={lat}&lon={lon}\"\n",
    "    response = requests.get(url, headers={\"User-Agent\": \"Mozilla/5.0\"})\n",
    "    return response.json()\n",
    "\n",
    "def get_details(osm_type, osm_id):\n",
    "    # Convert osm_type to API-required short form\n",
    "    osm_type_map = {'node': 'N', 'way': 'W', 'relation': 'R'}\n",
    "    type_code = osm_type_map[osm_type.lower()]\n",
    "    url = f\"https://nominatim.openstreetmap.org/details?osmtype={type_code}&osmid={osm_id}&format=json\"\n",
    "    response = requests.get(url, headers={\"User-Agent\": \"Mozilla/5.0\"})\n",
    "    return response.json()\n",
    "\n",
    "def enrich_and_save(df, output_dir: Path, refetch: bool = False):\n",
    "    output_dir.mkdir(parents=True, exist_ok=refetch)\n",
    "    for index, row in tqdm(df.iterrows(), total=len(df)):\n",
    "        lat, lon = row[\"positionList\"]\n",
    "        rev_data = reverse_geocode(lat, lon)\n",
    "\n",
    "        # Extract osm_type and osm_id\n",
    "        try:\n",
    "            osm_type = rev_data[\"features\"][0][\"properties\"][\"osm_type\"]\n",
    "            osm_id = rev_data[\"features\"][0][\"properties\"][\"osm_id\"]\n",
    "        except (KeyError, IndexError) as e:\n",
    "            tqdm.write(f\"Problem for {i}: {e}\")\n",
    "\n",
    "        details_data = get_details(osm_type, osm_id)\n",
    "\n",
    "        # Save raw data\n",
    "        with open(os.path.join(output_dir, f\"{row['id']}_reverse.json\"), \"w\") as f:\n",
    "            json.dump(rev_data, f, indent=2)\n",
    "        with open(os.path.join(output_dir, f\"{row['id']}_details.json\"), \"w\") as f:\n",
    "            json.dump(details_data, f, indent=2)"
   ]
  },
  {
   "cell_type": "code",
   "execution_count": 64,
   "id": "424349e2-4124-4c8f-8dc4-4f486800f14a",
   "metadata": {},
   "outputs": [
    {
     "data": {
      "text/html": [
       "<div>\n",
       "<style scoped>\n",
       "    .dataframe tbody tr th:only-of-type {\n",
       "        vertical-align: middle;\n",
       "    }\n",
       "\n",
       "    .dataframe tbody tr th {\n",
       "        vertical-align: top;\n",
       "    }\n",
       "\n",
       "    .dataframe thead th {\n",
       "        text-align: right;\n",
       "    }\n",
       "</style>\n",
       "<table border=\"1\" class=\"dataframe\">\n",
       "  <thead>\n",
       "    <tr style=\"text-align: right;\">\n",
       "      <th></th>\n",
       "      <th>id</th>\n",
       "      <th>title</th>\n",
       "      <th>category</th>\n",
       "      <th>aliasList</th>\n",
       "      <th>positionList</th>\n",
       "      <th>url</th>\n",
       "    </tr>\n",
       "  </thead>\n",
       "  <tbody>\n",
       "    <tr>\n",
       "      <th>820</th>\n",
       "      <td>896</td>\n",
       "      <td>214</td>\n",
       "      <td>building</td>\n",
       "      <td>[]</td>\n",
       "      <td>[49.09085, 8.43021]</td>\n",
       "      <td>None</td>\n",
       "    </tr>\n",
       "  </tbody>\n",
       "</table>\n",
       "</div>"
      ],
      "text/plain": [
       "      id title  category aliasList         positionList   url\n",
       "820  896   214  building        []  [49.09085, 8.43021]  None"
      ]
     },
     "execution_count": 64,
     "metadata": {},
     "output_type": "execute_result"
    }
   ],
   "source": [
    "df.iloc[-1:]"
   ]
  },
  {
   "cell_type": "code",
   "execution_count": 66,
   "id": "3f15cacd-48ab-4dba-90c6-1bc0f130585d",
   "metadata": {},
   "outputs": [
    {
     "name": "stderr",
     "output_type": "stream",
     "text": [
      "100%|████████████████████████████████████████████████████████████████████████████| 828/828 [1:31:21<00:00,  6.62s/it]\n"
     ]
    }
   ],
   "source": [
    "enrich_and_save(df, data_base / \"nominatim_cache\", refetch = True)"
   ]
  },
  {
   "cell_type": "markdown",
   "id": "eaa8ee65-0071-458c-9f5a-2201b196b9e9",
   "metadata": {},
   "source": [
    "## Transform / merge\n",
    "\n",
    "Explore the data in `explore_data.ipynb`. Adjust transformation based on insights.\n",
    "\n",
    "- `rev_` prefixed columns come from data from reverse geocoding.\n",
    "- `det_` prefixed columns come from data from OSM details."
   ]
  },
  {
   "cell_type": "code",
   "execution_count": 86,
   "id": "43c11031-76aa-4804-8aa6-ae5b28a2b7a8",
   "metadata": {},
   "outputs": [],
   "source": [
    "def get_cached_details(id: str):\n",
    "    p = data_base / \"nominatim_cache\"\n",
    "    return json.loads((p / f\"{id}_details.json\").read_text())\n",
    "\n",
    "def get_cached_reverse(id: str):\n",
    "    p = data_base / \"nominatim_cache\"\n",
    "    return json.loads((p / f\"{id}_reverse.json\").read_text())\n",
    "    "
   ]
  },
  {
   "cell_type": "code",
   "execution_count": 89,
   "id": "01512a27-2aab-4f58-b972-44461035e296",
   "metadata": {},
   "outputs": [],
   "source": [
    "df[\"reverse\"] = df.id.apply(get_cached_reverse)\n",
    "df[\"details\"] = df.id.apply(get_cached_details)"
   ]
  },
  {
   "cell_type": "code",
   "execution_count": 90,
   "id": "210a4094-0e60-4379-8393-73cd63ed35c8",
   "metadata": {},
   "outputs": [
    {
     "data": {
      "text/html": [
       "<div>\n",
       "<style scoped>\n",
       "    .dataframe tbody tr th:only-of-type {\n",
       "        vertical-align: middle;\n",
       "    }\n",
       "\n",
       "    .dataframe tbody tr th {\n",
       "        vertical-align: top;\n",
       "    }\n",
       "\n",
       "    .dataframe thead th {\n",
       "        text-align: right;\n",
       "    }\n",
       "</style>\n",
       "<table border=\"1\" class=\"dataframe\">\n",
       "  <thead>\n",
       "    <tr style=\"text-align: right;\">\n",
       "      <th></th>\n",
       "      <th>id</th>\n",
       "      <th>title</th>\n",
       "      <th>category</th>\n",
       "      <th>aliasList</th>\n",
       "      <th>positionList</th>\n",
       "      <th>url</th>\n",
       "      <th>reverse</th>\n",
       "      <th>details</th>\n",
       "    </tr>\n",
       "  </thead>\n",
       "  <tbody>\n",
       "    <tr>\n",
       "      <th>0</th>\n",
       "      <td>1</td>\n",
       "      <td>Egon-Eiermann-Hörsaal (20.40)</td>\n",
       "      <td>lecturehall</td>\n",
       "      <td>[]</td>\n",
       "      <td>[49.01097, 8.41095]</td>\n",
       "      <td>None</td>\n",
       "      <td>{'type': 'FeatureCollection', 'licence': 'Data...</td>\n",
       "      <td>{'place_id': 113347755, 'parent_place_id': 113...</td>\n",
       "    </tr>\n",
       "    <tr>\n",
       "      <th>1</th>\n",
       "      <td>2</td>\n",
       "      <td>Sport-Hörsaal (40.40)</td>\n",
       "      <td>lecturehall</td>\n",
       "      <td>[]</td>\n",
       "      <td>[49.01580, 8.41636]</td>\n",
       "      <td>None</td>\n",
       "      <td>{'type': 'FeatureCollection', 'licence': 'Data...</td>\n",
       "      <td>{'place_id': 112652593, 'parent_place_id': 112...</td>\n",
       "    </tr>\n",
       "    <tr>\n",
       "      <th>2</th>\n",
       "      <td>3</td>\n",
       "      <td>Hochspannungstechnik-Hörsaal (30.35)</td>\n",
       "      <td>lecturehall</td>\n",
       "      <td>[]</td>\n",
       "      <td>[49.01197, 8.41272]</td>\n",
       "      <td>None</td>\n",
       "      <td>{'type': 'FeatureCollection', 'licence': 'Data...</td>\n",
       "      <td>{'place_id': 112652149, 'parent_place_id': 112...</td>\n",
       "    </tr>\n",
       "    <tr>\n",
       "      <th>3</th>\n",
       "      <td>4</td>\n",
       "      <td>Johann-Gottfried-Tulla-Hörsaal (11.40)</td>\n",
       "      <td>lecturehall</td>\n",
       "      <td>[]</td>\n",
       "      <td>[49.01023, 8.41187]</td>\n",
       "      <td>None</td>\n",
       "      <td>{'type': 'FeatureCollection', 'licence': 'Data...</td>\n",
       "      <td>{'place_id': 112652768, 'parent_place_id': 113...</td>\n",
       "    </tr>\n",
       "    <tr>\n",
       "      <th>4</th>\n",
       "      <td>5</td>\n",
       "      <td>Hörsaal am Fasanengarten (50.35)</td>\n",
       "      <td>lecturehall</td>\n",
       "      <td>[]</td>\n",
       "      <td>[49.01472, 8.42042]</td>\n",
       "      <td>None</td>\n",
       "      <td>{'type': 'FeatureCollection', 'licence': 'Data...</td>\n",
       "      <td>{'place_id': 113642624, 'parent_place_id': 112...</td>\n",
       "    </tr>\n",
       "  </tbody>\n",
       "</table>\n",
       "</div>"
      ],
      "text/plain": [
       "   id                                   title     category aliasList  \\\n",
       "0   1           Egon-Eiermann-Hörsaal (20.40)  lecturehall        []   \n",
       "1   2                   Sport-Hörsaal (40.40)  lecturehall        []   \n",
       "2   3    Hochspannungstechnik-Hörsaal (30.35)  lecturehall        []   \n",
       "3   4  Johann-Gottfried-Tulla-Hörsaal (11.40)  lecturehall        []   \n",
       "4   5        Hörsaal am Fasanengarten (50.35)  lecturehall        []   \n",
       "\n",
       "          positionList   url  \\\n",
       "0  [49.01097, 8.41095]  None   \n",
       "1  [49.01580, 8.41636]  None   \n",
       "2  [49.01197, 8.41272]  None   \n",
       "3  [49.01023, 8.41187]  None   \n",
       "4  [49.01472, 8.42042]  None   \n",
       "\n",
       "                                             reverse  \\\n",
       "0  {'type': 'FeatureCollection', 'licence': 'Data...   \n",
       "1  {'type': 'FeatureCollection', 'licence': 'Data...   \n",
       "2  {'type': 'FeatureCollection', 'licence': 'Data...   \n",
       "3  {'type': 'FeatureCollection', 'licence': 'Data...   \n",
       "4  {'type': 'FeatureCollection', 'licence': 'Data...   \n",
       "\n",
       "                                             details  \n",
       "0  {'place_id': 113347755, 'parent_place_id': 113...  \n",
       "1  {'place_id': 112652593, 'parent_place_id': 112...  \n",
       "2  {'place_id': 112652149, 'parent_place_id': 112...  \n",
       "3  {'place_id': 112652768, 'parent_place_id': 113...  \n",
       "4  {'place_id': 113642624, 'parent_place_id': 112...  "
      ]
     },
     "execution_count": 90,
     "metadata": {},
     "output_type": "execute_result"
    }
   ],
   "source": [
    "df.head()"
   ]
  },
  {
   "cell_type": "markdown",
   "id": "f71ec8a1-65e4-4d4e-9d24-04408b59127b",
   "metadata": {},
   "source": [
    "### from reverse mapping\n",
    "`[\"features\"][0][\"properties\"][[type, category, name, display_name]]`"
   ]
  },
  {
   "cell_type": "code",
   "execution_count": 91,
   "id": "236551c7-cf24-46f4-a760-30f753f0ad0c",
   "metadata": {},
   "outputs": [],
   "source": [
    "for property_name in (\"type\", \"category\", \"name\", \"display_name\"):\n",
    "    df[f\"rev_{property_name}\"] = df[\"reverse\"].apply(lambda x: x[\"features\"][0][\"properties\"][property_name])"
   ]
  },
  {
   "cell_type": "code",
   "execution_count": 92,
   "id": "40e1f4af-7c10-4a45-86c0-347310ce6c65",
   "metadata": {},
   "outputs": [
    {
     "data": {
      "text/plain": [
       "Index(['id', 'title', 'category', 'aliasList', 'positionList', 'url',\n",
       "       'reverse', 'details', 'rev_type', 'rev_category', 'rev_name',\n",
       "       'rev_display_name'],\n",
       "      dtype='object')"
      ]
     },
     "execution_count": 92,
     "metadata": {},
     "output_type": "execute_result"
    }
   ],
   "source": [
    "df.columns"
   ]
  },
  {
   "cell_type": "markdown",
   "id": "c42c319b-10f8-4248-924a-c7e2c20cb80d",
   "metadata": {},
   "source": [
    "### from details\n",
    "`[\"extratags\"][\"wheelchair(:description),opening hours,contact:phone\"]`"
   ]
  },
  {
   "cell_type": "code",
   "execution_count": 95,
   "id": "653c04cd-68ec-49cb-8d8a-4dd5a65bdb42",
   "metadata": {},
   "outputs": [],
   "source": [
    "for extra_tag_name in (\"opening_hours\", \"contact:phone\", \"wheelchair\", \"wheelchair:description\"):\n",
    "    df[f\"det_{extra_tag_name}\"] = df[\"details\"].apply(lambda x: x[\"extratags\"].get(extra_tag_name))"
   ]
  },
  {
   "cell_type": "code",
   "execution_count": 96,
   "id": "3a0df695-8d8e-43fa-b07e-fe24a15f5cce",
   "metadata": {},
   "outputs": [
    {
     "data": {
      "text/plain": [
       "Index(['id', 'title', 'category', 'aliasList', 'positionList', 'url',\n",
       "       'reverse', 'details', 'rev_type', 'rev_category', 'rev_name',\n",
       "       'rev_display_name', 'det_opening_hours', 'det_contact:phone',\n",
       "       'det_wheelchair', 'det_wheelchair:description'],\n",
       "      dtype='object')"
      ]
     },
     "execution_count": 96,
     "metadata": {},
     "output_type": "execute_result"
    }
   ],
   "source": [
    "df.columns"
   ]
  },
  {
   "cell_type": "code",
   "execution_count": 102,
   "id": "f93ed7ff-69f8-4be6-b2b3-4b0bf2e2fd40",
   "metadata": {},
   "outputs": [],
   "source": [
    "del df[\"reverse\"]\n",
    "del df[\"details\"]\n",
    "\n",
    "df.to_csv(data_base / \"campusplan_enriched.csv\", index=False)"
   ]
  },
  {
   "cell_type": "code",
   "execution_count": null,
   "id": "9760aa69-54b6-407b-bf4c-87dbf15ddf4f",
   "metadata": {},
   "outputs": [],
   "source": []
  }
 ],
 "metadata": {
  "kernelspec": {
   "display_name": "Python 3 (ipykernel)",
   "language": "python",
   "name": "python3"
  },
  "language_info": {
   "codemirror_mode": {
    "name": "ipython",
    "version": 3
   },
   "file_extension": ".py",
   "mimetype": "text/x-python",
   "name": "python",
   "nbconvert_exporter": "python",
   "pygments_lexer": "ipython3",
   "version": "3.13.3"
  }
 },
 "nbformat": 4,
 "nbformat_minor": 5
}
