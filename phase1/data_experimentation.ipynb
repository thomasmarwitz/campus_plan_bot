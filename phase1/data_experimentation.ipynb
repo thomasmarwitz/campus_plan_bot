{
 "cells": [
  {
   "cell_type": "code",
   "execution_count": 15,
   "id": "6b3e8cad-0879-488d-b54e-df5626332a58",
   "metadata": {},
   "outputs": [],
   "source": [
    "import json\n",
    "from pathlib import Path\n",
    "import pandas as pd"
   ]
  },
  {
   "cell_type": "code",
   "execution_count": null,
   "id": "e9d67721-5318-4665-aaa5-32e05ecc9a94",
   "metadata": {},
   "outputs": [
    {
     "data": {
      "text/plain": [
       "{'id': 1,\n",
       " 'title': 'Egon-Eiermann-Hörsaal (20.40)',\n",
       " 'category': 'lecturehall',\n",
       " 'aliasList': [],\n",
       " 'positionList': [['49.01097', '8.41095']],\n",
       " 'url': None}"
      ]
     },
     "execution_count": 5,
     "metadata": {},
     "output_type": "execute_result"
    }
   ],
   "source": [
    "data = json.loads(Path(\"data/campusplan.json\").read_text())\n",
    "data[0]"
   ]
  },
  {
   "cell_type": "code",
   "execution_count": 17,
   "id": "5bb94c7e-496f-42a1-91b6-7e4153deb87d",
   "metadata": {},
   "outputs": [],
   "source": [
    "df = pd.DataFrame(data)"
   ]
  },
  {
   "cell_type": "code",
   "execution_count": 20,
   "id": "1a5c5eaa-dc88-4ca8-8ecb-9c0da4df052e",
   "metadata": {},
   "outputs": [],
   "source": [
    "df.positionList = df.positionList.apply(lambda x: x[0])"
   ]
  },
  {
   "cell_type": "code",
   "execution_count": 21,
   "id": "bedb68ab-1c2d-4958-9b54-549cfc7e7fbd",
   "metadata": {},
   "outputs": [
    {
     "data": {
      "text/html": [
       "<div>\n",
       "<style scoped>\n",
       "    .dataframe tbody tr th:only-of-type {\n",
       "        vertical-align: middle;\n",
       "    }\n",
       "\n",
       "    .dataframe tbody tr th {\n",
       "        vertical-align: top;\n",
       "    }\n",
       "\n",
       "    .dataframe thead th {\n",
       "        text-align: right;\n",
       "    }\n",
       "</style>\n",
       "<table border=\"1\" class=\"dataframe\">\n",
       "  <thead>\n",
       "    <tr style=\"text-align: right;\">\n",
       "      <th></th>\n",
       "      <th>id</th>\n",
       "      <th>title</th>\n",
       "      <th>category</th>\n",
       "      <th>aliasList</th>\n",
       "      <th>positionList</th>\n",
       "      <th>url</th>\n",
       "    </tr>\n",
       "  </thead>\n",
       "  <tbody>\n",
       "    <tr>\n",
       "      <th>0</th>\n",
       "      <td>1</td>\n",
       "      <td>Egon-Eiermann-Hörsaal (20.40)</td>\n",
       "      <td>lecturehall</td>\n",
       "      <td>[]</td>\n",
       "      <td>[49.01097, 8.41095]</td>\n",
       "      <td>None</td>\n",
       "    </tr>\n",
       "    <tr>\n",
       "      <th>1</th>\n",
       "      <td>2</td>\n",
       "      <td>Sport-Hörsaal (40.40)</td>\n",
       "      <td>lecturehall</td>\n",
       "      <td>[]</td>\n",
       "      <td>[49.01580, 8.41636]</td>\n",
       "      <td>None</td>\n",
       "    </tr>\n",
       "    <tr>\n",
       "      <th>2</th>\n",
       "      <td>3</td>\n",
       "      <td>Hochspannungstechnik-Hörsaal (30.35)</td>\n",
       "      <td>lecturehall</td>\n",
       "      <td>[]</td>\n",
       "      <td>[49.01197, 8.41272]</td>\n",
       "      <td>None</td>\n",
       "    </tr>\n",
       "    <tr>\n",
       "      <th>3</th>\n",
       "      <td>4</td>\n",
       "      <td>Johann-Gottfried-Tulla-Hörsaal (11.40)</td>\n",
       "      <td>lecturehall</td>\n",
       "      <td>[]</td>\n",
       "      <td>[49.01023, 8.41187]</td>\n",
       "      <td>None</td>\n",
       "    </tr>\n",
       "    <tr>\n",
       "      <th>4</th>\n",
       "      <td>5</td>\n",
       "      <td>Hörsaal am Fasanengarten (50.35)</td>\n",
       "      <td>lecturehall</td>\n",
       "      <td>[]</td>\n",
       "      <td>[49.01472, 8.42042]</td>\n",
       "      <td>None</td>\n",
       "    </tr>\n",
       "    <tr>\n",
       "      <th>...</th>\n",
       "      <td>...</td>\n",
       "      <td>...</td>\n",
       "      <td>...</td>\n",
       "      <td>...</td>\n",
       "      <td>...</td>\n",
       "      <td>...</td>\n",
       "    </tr>\n",
       "    <tr>\n",
       "      <th>816</th>\n",
       "      <td>892</td>\n",
       "      <td>669</td>\n",
       "      <td>building</td>\n",
       "      <td>[]</td>\n",
       "      <td>[49.10022, 8.43704]</td>\n",
       "      <td>None</td>\n",
       "    </tr>\n",
       "    <tr>\n",
       "      <th>817</th>\n",
       "      <td>893</td>\n",
       "      <td>Energy Lab</td>\n",
       "      <td>building</td>\n",
       "      <td>[elab]</td>\n",
       "      <td>[49.09934, 8.43641]</td>\n",
       "      <td>https://www.elab.kit.edu</td>\n",
       "    </tr>\n",
       "    <tr>\n",
       "      <th>818</th>\n",
       "      <td>894</td>\n",
       "      <td>Institut für Wirtschaftsinformatik (WIN)</td>\n",
       "      <td>institute</td>\n",
       "      <td>[]</td>\n",
       "      <td>[49.00896, 8.40931]</td>\n",
       "      <td>https://www.win.kit.edu/index.php</td>\n",
       "    </tr>\n",
       "    <tr>\n",
       "      <th>819</th>\n",
       "      <td>895</td>\n",
       "      <td>KinderUniversum</td>\n",
       "      <td>facility</td>\n",
       "      <td>[]</td>\n",
       "      <td>[49.01016, 8.41964]</td>\n",
       "      <td>None</td>\n",
       "    </tr>\n",
       "    <tr>\n",
       "      <th>820</th>\n",
       "      <td>896</td>\n",
       "      <td>214</td>\n",
       "      <td>building</td>\n",
       "      <td>[]</td>\n",
       "      <td>[49.09085, 8.43021]</td>\n",
       "      <td>None</td>\n",
       "    </tr>\n",
       "  </tbody>\n",
       "</table>\n",
       "<p>821 rows × 6 columns</p>\n",
       "</div>"
      ],
      "text/plain": [
       "      id                                     title     category aliasList  \\\n",
       "0      1             Egon-Eiermann-Hörsaal (20.40)  lecturehall        []   \n",
       "1      2                     Sport-Hörsaal (40.40)  lecturehall        []   \n",
       "2      3      Hochspannungstechnik-Hörsaal (30.35)  lecturehall        []   \n",
       "3      4    Johann-Gottfried-Tulla-Hörsaal (11.40)  lecturehall        []   \n",
       "4      5          Hörsaal am Fasanengarten (50.35)  lecturehall        []   \n",
       "..   ...                                       ...          ...       ...   \n",
       "816  892                                       669     building        []   \n",
       "817  893                                Energy Lab     building    [elab]   \n",
       "818  894  Institut für Wirtschaftsinformatik (WIN)    institute        []   \n",
       "819  895                           KinderUniversum     facility        []   \n",
       "820  896                                       214     building        []   \n",
       "\n",
       "            positionList                                url  \n",
       "0    [49.01097, 8.41095]                               None  \n",
       "1    [49.01580, 8.41636]                               None  \n",
       "2    [49.01197, 8.41272]                               None  \n",
       "3    [49.01023, 8.41187]                               None  \n",
       "4    [49.01472, 8.42042]                               None  \n",
       "..                   ...                                ...  \n",
       "816  [49.10022, 8.43704]                               None  \n",
       "817  [49.09934, 8.43641]           https://www.elab.kit.edu  \n",
       "818  [49.00896, 8.40931]  https://www.win.kit.edu/index.php  \n",
       "819  [49.01016, 8.41964]                               None  \n",
       "820  [49.09085, 8.43021]                               None  \n",
       "\n",
       "[821 rows x 6 columns]"
      ]
     },
     "execution_count": 21,
     "metadata": {},
     "output_type": "execute_result"
    }
   ],
   "source": [
    "df"
   ]
  },
  {
   "cell_type": "code",
   "execution_count": 22,
   "id": "14cfb786-f465-4c97-98c1-b1e418e0a9df",
   "metadata": {},
   "outputs": [],
   "source": [
    "df.to_csv(\"markers.csv\", index=False)"
   ]
  },
  {
   "cell_type": "markdown",
   "id": "cc6e6c79-b494-461e-bfe0-58f16f716f82",
   "metadata": {},
   "source": [
    "## Addresses"
   ]
  },
  {
   "cell_type": "code",
   "execution_count": 28,
   "id": "d6e14824-da48-4a05-98a9-c57d21b28a8b",
   "metadata": {},
   "outputs": [
    {
     "name": "stdout",
     "output_type": "stream",
     "text": [
      "Architektur, 7, Englerstraße, Innenstadt-Ost Nordöstlicher Teil, Innenstadt-Ost, Karlsruhe, Baden-Württemberg, 76131, Deutschland\n"
     ]
    }
   ],
   "source": [
    "from geopy.geocoders import Nominatim\n",
    "\n",
    "# Example DataFrame\n",
    "df2 = pd.DataFrame({\n",
    "    'id': [1],\n",
    "    'positionList': [[49.01097, 8.41095]]\n",
    "})\n",
    "\n",
    "geolocator = Nominatim(user_agent=\"geoapi\")\n",
    "\n",
    "def reverse_geocode(coords):\n",
    "    location = geolocator.reverse(coords, exactly_one=True)\n",
    "    print(location)\n",
    "    \n",
    "    return location.address if location else None\n",
    "\n",
    "df2['address'] = df2['positionList'].apply(lambda pos: reverse_geocode((pos[0], pos[1])))"
   ]
  }
 ],
 "metadata": {
  "kernelspec": {
   "display_name": "Python 3 (ipykernel)",
   "language": "python",
   "name": "python3"
  },
  "language_info": {
   "codemirror_mode": {
    "name": "ipython",
    "version": 3
   },
   "file_extension": ".py",
   "mimetype": "text/x-python",
   "name": "python",
   "nbconvert_exporter": "python",
   "pygments_lexer": "ipython3",
   "version": "3.13.3"
  }
 },
 "nbformat": 4,
 "nbformat_minor": 5
}
