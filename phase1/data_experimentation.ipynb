{
 "cells": [
  {
   "cell_type": "code",
   "execution_count": null,
   "id": "6b3e8cad-0879-488d-b54e-df5626332a58",
   "metadata": {},
   "outputs": [],
   "source": [
    "import json\n",
    "from pathlib import Path\n",
    "import pandas as pd\n",
    "from collections import Counter\n",
    "import requests\n",
    "import os\n",
    "from tqdm import tqdm"
   ]
  },
  {
   "cell_type": "code",
   "execution_count": null,
   "id": "a1bfeffa-7f6f-4c89-98a8-5891704bcbb3",
   "metadata": {},
   "outputs": [],
   "source": [
    "data_base = Path(\"data\")"
   ]
  },
  {
   "cell_type": "code",
   "execution_count": null,
   "id": "e9d67721-5318-4665-aaa5-32e05ecc9a94",
   "metadata": {},
   "outputs": [],
   "source": [
    "data = json.loads(Path(\"data/campusplan.json\").read_text())\n",
    "data[0]"
   ]
  },
  {
   "cell_type": "code",
   "execution_count": null,
   "id": "5bb94c7e-496f-42a1-91b6-7e4153deb87d",
   "metadata": {},
   "outputs": [],
   "source": [
    "df = pd.DataFrame(data)\n",
    "len(df)"
   ]
  },
  {
   "cell_type": "markdown",
   "id": "3631ff42-a1e5-4f02-b996-71cbe9761c70",
   "metadata": {},
   "source": [
    "## Some entries have 2 positions"
   ]
  },
  {
   "cell_type": "code",
   "execution_count": null,
   "id": "74212c78-0efa-41f2-89bd-7f15328c5eb4",
   "metadata": {},
   "outputs": [],
   "source": [
    "Counter(df.positionList.apply(len))"
   ]
  },
  {
   "cell_type": "code",
   "execution_count": null,
   "id": "f85365ab-490f-48db-8a59-b9e1a518f68a",
   "metadata": {},
   "outputs": [],
   "source": [
    "df[df.positionList.apply(len) == 2]"
   ]
  },
  {
   "cell_type": "markdown",
   "id": "d712fe79-4ed6-4aeb-9e7e-a13791db293b",
   "metadata": {},
   "source": [
    "We deal with this (in the pandas world) by exploding based on the positionList. We do this because in the following data enrichment, we want to have a unique position (lat and long) per row.\n",
    "\n",
    "Later, we perhaps want a normalized SQL schema."
   ]
  },
  {
   "cell_type": "code",
   "execution_count": null,
   "id": "6f3ad33a-dcba-48b0-a518-748f283e1bc1",
   "metadata": {},
   "outputs": [],
   "source": [
    "df = df.explode(\"positionList\")\n",
    "len(df)"
   ]
  },
  {
   "cell_type": "code",
   "execution_count": null,
   "id": "bedb68ab-1c2d-4958-9b54-549cfc7e7fbd",
   "metadata": {},
   "outputs": [],
   "source": [
    "df.head()"
   ]
  },
  {
   "cell_type": "code",
   "execution_count": null,
   "id": "14cfb786-f465-4c97-98c1-b1e418e0a9df",
   "metadata": {},
   "outputs": [],
   "source": [
    "df.to_csv(data_base / \"campusplan.csv\", index=False)"
   ]
  },
  {
   "cell_type": "markdown",
   "id": "cc6e6c79-b494-461e-bfe0-58f16f716f82",
   "metadata": {},
   "source": [
    "## Data enrichment"
   ]
  },
  {
   "cell_type": "code",
   "execution_count": null,
   "id": "6a11906a-9da3-4294-885c-020da8da1925",
   "metadata": {},
   "outputs": [],
   "source": [
    "df.loc[0]"
   ]
  },
  {
   "cell_type": "code",
   "execution_count": null,
   "id": "d2f8fc92-c7ce-4a9f-a468-45a6a560d7b4",
   "metadata": {},
   "outputs": [],
   "source": [
    "def reverse_geocode(lat, lon):\n",
    "    url = f\"https://nominatim.openstreetmap.org/reverse?format=geojson&lat={lat}&lon={lon}\"\n",
    "    response = requests.get(url, headers={\"User-Agent\": \"Mozilla/5.0\"})\n",
    "    return response.json()\n",
    "\n",
    "def get_details(osm_type, osm_id):\n",
    "    # Convert osm_type to API-required short form\n",
    "    osm_type_map = {'node': 'N', 'way': 'W', 'relation': 'R'}\n",
    "    type_code = osm_type_map[osm_type.lower()]\n",
    "    url = f\"https://nominatim.openstreetmap.org/details?osmtype={type_code}&osmid={osm_id}&format=json\"\n",
    "    response = requests.get(url, headers={\"User-Agent\": \"Mozilla/5.0\"})\n",
    "    return response.json()\n",
    "\n",
    "def enrich_and_save(df, output_dir: Path, refetch: bool = False):\n",
    "    output_dir.mkdir(parents=True, exist_ok=refetch)\n",
    "    for index, row in tqdm(df.iterrows(), total=len(df)):\n",
    "        lat, lon = row[\"positionList\"]\n",
    "        rev_data = reverse_geocode(lat, lon)\n",
    "\n",
    "        # Extract osm_type and osm_id\n",
    "        try:\n",
    "            osm_type = rev_data[\"features\"][0][\"properties\"][\"osm_type\"]\n",
    "            osm_id = rev_data[\"features\"][0][\"properties\"][\"osm_id\"]\n",
    "        except (KeyError, IndexError) as e:\n",
    "            tqdm.write(f\"Problem for {i}: {e}\")\n",
    "\n",
    "        details_data = get_details(osm_type, osm_id)\n",
    "\n",
    "        # Save raw data\n",
    "        with open(os.path.join(output_dir, f\"{row['id']}_reverse.json\"), \"w\") as f:\n",
    "            json.dump(rev_data, f, indent=2)\n",
    "        with open(os.path.join(output_dir, f\"{row['id']}_details.json\"), \"w\") as f:\n",
    "            json.dump(details_data, f, indent=2)"
   ]
  },
  {
   "cell_type": "code",
   "execution_count": null,
   "id": "424349e2-4124-4c8f-8dc4-4f486800f14a",
   "metadata": {},
   "outputs": [],
   "source": [
    "df.iloc[-1:]"
   ]
  },
  {
   "cell_type": "code",
   "execution_count": null,
   "id": "3f15cacd-48ab-4dba-90c6-1bc0f130585d",
   "metadata": {},
   "outputs": [],
   "source": [
    "enrich_and_save(df, data_base / \"nominatim_cache\", refetch = False)"
   ]
  },
  {
   "cell_type": "markdown",
   "id": "eaa8ee65-0071-458c-9f5a-2201b196b9e9",
   "metadata": {},
   "source": [
    "## Transform / merge\n",
    "\n",
    "Explore the data in `explore_data.ipynb`. Adjust transformation based on insights.\n",
    "\n",
    "- `rev_` prefixed columns come from data from reverse geocoding.\n",
    "- `det_` prefixed columns come from data from OSM details."
   ]
  },
  {
   "cell_type": "code",
   "execution_count": null,
   "id": "43c11031-76aa-4804-8aa6-ae5b28a2b7a8",
   "metadata": {},
   "outputs": [],
   "source": [
    "def get_cached_details(id: str):\n",
    "    p = data_base / \"nominatim_cache\"\n",
    "    return json.loads((p / f\"{id}_details.json\").read_text())\n",
    "\n",
    "def get_cached_reverse(id: str):\n",
    "    p = data_base / \"nominatim_cache\"\n",
    "    return json.loads((p / f\"{id}_reverse.json\").read_text())\n",
    "    "
   ]
  },
  {
   "cell_type": "code",
   "execution_count": null,
   "id": "01512a27-2aab-4f58-b972-44461035e296",
   "metadata": {},
   "outputs": [],
   "source": [
    "df[\"reverse\"] = df.id.apply(get_cached_reverse)\n",
    "df[\"details\"] = df.id.apply(get_cached_details)"
   ]
  },
  {
   "cell_type": "code",
   "execution_count": null,
   "id": "210a4094-0e60-4379-8393-73cd63ed35c8",
   "metadata": {},
   "outputs": [],
   "source": [
    "df.head()"
   ]
  },
  {
   "cell_type": "markdown",
   "id": "f71ec8a1-65e4-4d4e-9d24-04408b59127b",
   "metadata": {},
   "source": [
    "### from reverse mapping\n",
    "`[\"features\"][0][\"properties\"][[type, category, name, display_name]]`"
   ]
  },
  {
   "cell_type": "code",
   "execution_count": null,
   "id": "236551c7-cf24-46f4-a760-30f753f0ad0c",
   "metadata": {},
   "outputs": [],
   "source": [
    "for property_name in (\"type\", \"category\", \"name\", \"display_name\"):\n",
    "    df[f\"rev_{property_name}\"] = df[\"reverse\"].apply(lambda x: x[\"features\"][0][\"properties\"][property_name])"
   ]
  },
  {
   "cell_type": "code",
   "execution_count": null,
   "id": "40e1f4af-7c10-4a45-86c0-347310ce6c65",
   "metadata": {},
   "outputs": [],
   "source": [
    "df.columns"
   ]
  },
  {
   "cell_type": "markdown",
   "id": "c42c319b-10f8-4248-924a-c7e2c20cb80d",
   "metadata": {},
   "source": [
    "### from details\n",
    "`[\"extratags\"][\"wheelchair(:description),opening hours,contact:phone\"]`"
   ]
  },
  {
   "cell_type": "code",
   "execution_count": null,
   "id": "653c04cd-68ec-49cb-8d8a-4dd5a65bdb42",
   "metadata": {},
   "outputs": [],
   "source": [
    "for extra_tag_name in (\"opening_hours\", \"contact:phone\", \"wheelchair\", \"wheelchair:description\"):\n",
    "    df[f\"det_{extra_tag_name}\"] = df[\"details\"].apply(lambda x: x[\"extratags\"].get(extra_tag_name))"
   ]
  },
  {
   "cell_type": "code",
   "execution_count": null,
   "id": "3a0df695-8d8e-43fa-b07e-fe24a15f5cce",
   "metadata": {},
   "outputs": [],
   "source": [
    "df.columns"
   ]
  },
  {
   "cell_type": "code",
   "execution_count": null,
   "id": "f93ed7ff-69f8-4be6-b2b3-4b0bf2e2fd40",
   "metadata": {},
   "outputs": [],
   "source": [
    "del df[\"reverse\"]\n",
    "del df[\"details\"]\n",
    "\n",
    "df.to_csv(data_base / \"campusplan_enriched.csv\", index=False)"
   ]
  },
  {
   "cell_type": "code",
   "execution_count": null,
   "id": "9760aa69-54b6-407b-bf4c-87dbf15ddf4f",
   "metadata": {},
   "outputs": [],
   "source": []
  }
 ],
 "metadata": {
  "kernelspec": {
   "display_name": "Python 3 (ipykernel)",
   "language": "python",
   "name": "python3"
  },
  "language_info": {
   "codemirror_mode": {
    "name": "ipython",
    "version": 3
   },
   "file_extension": ".py",
   "mimetype": "text/x-python",
   "name": "python",
   "nbconvert_exporter": "python",
   "pygments_lexer": "ipython3",
   "version": "3.13.0"
  }
 },
 "nbformat": 4,
 "nbformat_minor": 5
}
