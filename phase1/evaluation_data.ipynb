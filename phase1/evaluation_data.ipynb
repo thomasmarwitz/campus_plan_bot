{
 "cells": [
  {
   "cell_type": "code",
   "execution_count": 131,
   "id": "e482a4c6-2179-4f35-a641-9164ce38f254",
   "metadata": {},
   "outputs": [],
   "source": [
    "import pandas as pd\n",
    "import numpy as np\n",
    "import random\n",
    "import json\n",
    "from enum import Enum\n",
    "from pathlib import Path"
   ]
  },
  {
   "cell_type": "code",
   "execution_count": 127,
   "id": "9e98283b-7195-479d-b59c-0a77a1404be2",
   "metadata": {},
   "outputs": [],
   "source": [
    "df = pd.read_csv(\"data/campusplan_evaluation.csv\")"
   ]
  },
  {
   "cell_type": "code",
   "execution_count": 128,
   "id": "1d84d9b2-f668-4ca5-8a03-2a029b5eb772",
   "metadata": {
    "editable": true,
    "slideshow": {
     "slide_type": ""
    },
    "tags": []
   },
   "outputs": [],
   "source": [
    "# fake building names\n",
    "fake_lecture_halls = [\"Einstein-Hörsaal\", \"Curie-Hörsaal\", \"Newton-Hörsaal\", \"Hawking-Hörsaal\", \"Galileo-Hörsaal\", \"Darwin-Hörsaal\", \"Tesla-Hörsaal\", \"Feynman-Hörsaal\", \"Planck-Hörsaal\", \"Bohr-Hörsaal\", \"Faraday-Hörsaal\", \"Mendel-Hörsaal\", \"Hubble-Hörsaal\", \"Turing-Hörsaal\", \"Rutherford-Hörsaal\", \"Archimedes-Hörsaal\", \"Sanger-Hörsaal\", \"von Neumann-Hörsaal\", \"Franklin-Hörsaal\"]\n",
    "fake_buildings = [\"60.03\", \"60.20\", \"60.41\", \"60.19\", \"60.12\", \"20.61\", \"20.65\", \"20.91\", \"10.14\", \"10.74\", \"10.28\", \"10.35\", \"30.09\", \"30.26\", \"30.52\", \"40.20\", \"40.35\", \"40.61\", \"50.09\", \"50.78\", \"70.02\"]"
   ]
  },
  {
   "cell_type": "code",
   "execution_count": 134,
   "id": "9fdbd4bc-5b20-420b-a2d3-aa61a6921b08",
   "metadata": {},
   "outputs": [],
   "source": [
    "class Turns(Enum):\n",
    "    SINGLE = 1\n",
    "    MULTI = 2\n",
    "    \n",
    "def asemble_prompt(input_data, response_data, prompt, response):\n",
    "    prompt = {\"input_data\" : input_data, \"response_data\" : response_data, \"prompt\" : prompt, \"response\" : response}\n",
    "    return prompt\n",
    "\n",
    "def build_prompt_dict(turns, prompts):\n",
    "    prompt_dict = {\"num_turns\" : turns, \"prompts\" : prompts}\n",
    "    return prompt_dict\n",
    "\n",
    "def json_dump(turns, prompts, name):\n",
    "    if turns == Turns.SINGLE:\n",
    "        path = Path(\"data/evaluation/single_turn\")\n",
    "    elif turns == Turns.MULTI:\n",
    "        path = Path(\"data/evaluation/multi_turn\")\n",
    "\n",
    "    with open(path / f\"{name}.json\", 'w') as f:\n",
    "        json.dump(prompts, f, indent=4)"
   ]
  },
  {
   "cell_type": "markdown",
   "id": "156f6f0b-402e-44f0-9f97-2c46af4436ac",
   "metadata": {},
   "source": [
    "## Retrieve Static Information"
   ]
  },
  {
   "cell_type": "code",
   "execution_count": 141,
   "id": "16c726f7-d9ce-4179-b317-420be6b19b8a",
   "metadata": {},
   "outputs": [],
   "source": [
    "# building location\n",
    "prompts = []\n",
    "for i in df.iterrows():\n",
    "    index = random.randint(0, df.shape[0]-1)\n",
    "    building_id = df['title'].loc[index]\n",
    "    address = df['rev_display_name'].astype(str).loc[index]\n",
    "    \n",
    "    prompt = f\"Wo ist Gebäude {building_id}?\"\n",
    "    \n",
    "    if address == \"nan\":\n",
    "        response = \"Ich kenne die Adresse von diesem Gebäude leider nicht.\"\n",
    "    else:\n",
    "        response = f\"Das Gebäude hat die Adresse {address}\"\n",
    "\n",
    "    prompt = asemble_prompt(building_id, address, prompt, response)\n",
    "    prompt_dict = build_prompt_dict(1, [prompt])\n",
    "    prompts.append(prompt_dict)\n",
    "    \n",
    "json_dump(Turns.SINGLE, prompts, \"building_location\")\n",
    "\n",
    "# fake building location\n",
    "prompts = []\n",
    "for fake_hall in fake_lecture_halls:\n",
    "    prompt = f\"Wo ist Gebäude {fake_hall}?\"\n",
    "    response = \"Zu diesem Gebäude habe ich leider keine Informationen.\"\n",
    "\n",
    "    prompt = asemble_prompt(fake_hall, None, prompt, response)\n",
    "    prompt_dict = build_prompt_dict(1, [prompt])\n",
    "    prompts.append(prompt_dict)\n",
    "\n",
    "for fake_building in fake_buildings:\n",
    "    prompt = f\"Wo ist Gebäude {fake_building}?\"\n",
    "    response = \"Zu diesem Gebäude habe ich leider keine Informationen.\"\n",
    "\n",
    "    prompt = asemble_prompt(fake_building, None, prompt, response)\n",
    "    prompt_dict = build_prompt_dict(1, [prompt])\n",
    "    prompts.append(prompt_dict)\n",
    "    \n",
    "json_dump(Turns.SINGLE, prompts, \"building_location_fake\")"
   ]
  },
  {
   "cell_type": "code",
   "execution_count": null,
   "id": "d1de37b5-0231-4555-a686-fec5de2f2657",
   "metadata": {},
   "outputs": [],
   "source": []
  },
  {
   "cell_type": "code",
   "execution_count": null,
   "id": "0cad9e72-c030-4d39-9d8a-8701fbc0a150",
   "metadata": {},
   "outputs": [],
   "source": []
  }
 ],
 "metadata": {
  "kernelspec": {
   "display_name": "Python 3 (ipykernel)",
   "language": "python",
   "name": "python3"
  },
  "language_info": {
   "codemirror_mode": {
    "name": "ipython",
    "version": 3
   },
   "file_extension": ".py",
   "mimetype": "text/x-python",
   "name": "python",
   "nbconvert_exporter": "python",
   "pygments_lexer": "ipython3",
   "version": "3.13.0"
  }
 },
 "nbformat": 4,
 "nbformat_minor": 5
}
