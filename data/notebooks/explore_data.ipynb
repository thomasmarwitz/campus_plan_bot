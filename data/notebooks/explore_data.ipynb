{
 "cells": [
  {
   "cell_type": "code",
   "execution_count": 1,
   "id": "1c885380-3830-4191-91ba-7d6e0f2b9d4c",
   "metadata": {},
   "outputs": [],
   "source": [
    "from pathlib import Path\n",
    "import json\n",
    "from collections import Counter\n",
    "\n",
    "data_base = Path(\"..\")\n",
    "\n",
    "def inspect(name: str):\n",
    "    full_p = data_base / \"nominatim_cache\" / name\n",
    "    return json.loads(full_p.read_text())"
   ]
  },
  {
   "cell_type": "markdown",
   "id": "1cd99ab4-21eb-44c1-917d-7e51b614f1be",
   "metadata": {},
   "source": [
    "## Details"
   ]
  },
  {
   "cell_type": "code",
   "execution_count": 2,
   "id": "7e9fbc2a-42b9-49f8-b53d-57447d18007b",
   "metadata": {
    "scrolled": true
   },
   "outputs": [
    {
     "data": {
      "text/plain": [
       "Counter({'operator': 309,\n",
       "         'building:levels': 261,\n",
       "         'roof:shape': 226,\n",
       "         'access': 202,\n",
       "         'start_date': 190,\n",
       "         'max_level': 150,\n",
       "         'min_level': 150,\n",
       "         'university': 144,\n",
       "         'roof:levels': 115,\n",
       "         'wikidata': 113,\n",
       "         'wheelchair': 111,\n",
       "         'maxspeed': 109,\n",
       "         'contact:website': 106,\n",
       "         'source:geometry': 101,\n",
       "         'campus': 91,\n",
       "         'member_of': 91,\n",
       "         'research_institution': 91,\n",
       "         'wikipedia': 91,\n",
       "         'building:colour': 88,\n",
       "         'operator:type': 86,\n",
       "         'roof:material': 82,\n",
       "         'contact:phone': 80,\n",
       "         'level': 79,\n",
       "         'contact:fax': 77,\n",
       "         'contact:city': 77,\n",
       "         'contact:email': 77,\n",
       "         'contact:street': 77,\n",
       "         'contact:country': 77,\n",
       "         'contact:mastodon': 77,\n",
       "         'contact:postcode': 77,\n",
       "         'contact:housenumber': 77,\n",
       "         'surface': 68,\n",
       "         'roof:colour': 68,\n",
       "         'source:addr': 52,\n",
       "         'opening_hours': 50,\n",
       "         'lit': 40,\n",
       "         'heritage': 39,\n",
       "         'website': 37,\n",
       "         'building:material': 37,\n",
       "         'building': 33,\n",
       "         'height': 33,\n",
       "         'psv': 29,\n",
       "         'indoor': 28,\n",
       "         'oneway': 26,\n",
       "         'architect': 23,\n",
       "         'hazard': 23,\n",
       "         'parking': 22,\n",
       "         'wheelchair:description': 21,\n",
       "         'check_date': 17,\n",
       "         'heritage:description': 16,\n",
       "         'area': 16,\n",
       "         'layer': 15,\n",
       "         'repeat_on': 15,\n",
       "         'heritage:operator': 14,\n",
       "         'hazard:de': 14,\n",
       "         'internet_access': 13,\n",
       "         'fee': 12,\n",
       "         'check_date:opening_hours': 12,\n",
       "         'capacity': 11,\n",
       "         'last_renovation': 11,\n",
       "         'opening_hours:covid19': 11,\n",
       "         'source:name': 10,\n",
       "         'ref:isil': 9,\n",
       "         'building:levels:underground': 9,\n",
       "         'opening_hours:signed': 9,\n",
       "         'room': 9,\n",
       "         'min_height': 8,\n",
       "         'building:min_level': 8,\n",
       "         'construction:start_date': 8,\n",
       "         'internet_access:fee': 7,\n",
       "         'location': 7,\n",
       "         'phone': 7,\n",
       "         'smoking': 7,\n",
       "         'building:use': 7,\n",
       "         'fire_station:type': 6,\n",
       "         'description': 6,\n",
       "         'toilets:wheelchair': 6,\n",
       "         'artwork_type': 6,\n",
       "         'product': 5,\n",
       "         'disused:military': 5,\n",
       "         'orientation': 5,\n",
       "         'building:architecture': 5,\n",
       "         'changing_table': 5,\n",
       "         'building:part': 5,\n",
       "         'tower:type': 4,\n",
       "         'tower:construction': 4,\n",
       "         'surveillance': 4,\n",
       "         'capacity:charging': 4,\n",
       "         'education': 4,\n",
       "         'diet:vegan': 4,\n",
       "         'indoor_seating': 4,\n",
       "         'diet:vegetarian': 4,\n",
       "         'outdoor_seating': 4,\n",
       "         'payment:credit_cards': 4,\n",
       "         'artist_name': 4,\n",
       "         'covered': 4,\n",
       "         'motor_vehicle': 4,\n",
       "         'healthcare': 4,\n",
       "         'healthcare:speciality': 4,\n",
       "         'width': 4,\n",
       "         'noname': 4,\n",
       "         'designation': 4,\n",
       "         'source:width': 4,\n",
       "         'branch': 3,\n",
       "         'trailer': 3,\n",
       "         'maxheight': 3,\n",
       "         'motorcycle': 3,\n",
       "         'payment:coins': 3,\n",
       "         'payment:notes': 3,\n",
       "         'cuisine': 3,\n",
       "         'artist:wikidata': 3,\n",
       "         'artist:wikipedia': 3,\n",
       "         'payment:debit_cards': 3,\n",
       "         'contamination': 3,\n",
       "         'bicycle': 3,\n",
       "         'smoothness': 3,\n",
       "         'bicycle_parking': 3,\n",
       "         'bus': 3,\n",
       "         'bench': 3,\n",
       "         'shelter': 3,\n",
       "         'public_transport': 3,\n",
       "         'male': 3,\n",
       "         'female': 3,\n",
       "         'network': 3,\n",
       "         'memorial': 3,\n",
       "         'entrance': 2,\n",
       "         'dog': 2,\n",
       "         'toilets': 2,\n",
       "         'foot': 2,\n",
       "         'direction': 2,\n",
       "         'power': 2,\n",
       "         'voltage': 2,\n",
       "         'frequency': 2,\n",
       "         'substation': 2,\n",
       "         'image': 2,\n",
       "         'architect:wikidata': 2,\n",
       "         'architect:wikipedia': 2,\n",
       "         'support': 2,\n",
       "         'drinking_water': 2,\n",
       "         'toilets:disposal': 2,\n",
       "         'toilets:position': 2,\n",
       "         'handrail': 2,\n",
       "         'handrail:left': 2,\n",
       "         'handrail:right': 2,\n",
       "         'handrail:center': 2,\n",
       "         'tactile_writing': 2,\n",
       "         'speech_output:de': 2,\n",
       "         'company': 2,\n",
       "         'sidewalk': 2,\n",
       "         'barrier': 1,\n",
       "         'owner': 1,\n",
       "         'takeaway': 1,\n",
       "         'diet:healthy': 1,\n",
       "         'diet:organic': 1,\n",
       "         'payment:cash': 1,\n",
       "         'payment:visa': 1,\n",
       "         'toilets:male': 1,\n",
       "         'payment:cards': 1,\n",
       "         'toilets:female': 1,\n",
       "         'toilets:unisex': 1,\n",
       "         'payment:mastercard': 1,\n",
       "         'payment:contactless': 1,\n",
       "         'reusable_packaging:offer': 1,\n",
       "         'reusable_packaging:accept': 1,\n",
       "         'maxstay': 1,\n",
       "         'source:maxspeed': 1,\n",
       "         'ref:kit': 1,\n",
       "         'tracktype': 1,\n",
       "         'supervised': 1,\n",
       "         'check_date:capacity': 1,\n",
       "         'cycleway:both': 1,\n",
       "         'faculty': 1,\n",
       "         'room:ref': 1,\n",
       "         'association': 1,\n",
       "         'roof:height': 1,\n",
       "         'rating': 1,\n",
       "         'insurance': 1,\n",
       "         'library': 1,\n",
       "         'ref:note': 1,\n",
       "         'old_operator': 1,\n",
       "         'bin': 1,\n",
       "         'ref_name': 1,\n",
       "         'network:guid': 1,\n",
       "         'network:short': 1,\n",
       "         'tactile_paving': 1,\n",
       "         'network:wikidata': 1,\n",
       "         'government': 1,\n",
       "         'access:description': 1,\n",
       "         'capacity:disabled': 1,\n",
       "         'fridge': 1,\n",
       "         'garden:type': 1,\n",
       "         'sidewalk:left:surface': 1,\n",
       "         'reception_desk': 1,\n",
       "         'currency:EUR': 1,\n",
       "         'currency:others': 1,\n",
       "         'inscription': 1,\n",
       "         'memorial:addr': 1,\n",
       "         'subject:wikidata': 1,\n",
       "         'wikimedia_commons': 1,\n",
       "         'person:date_of_birth': 1,\n",
       "         'person:date_of_death': 1,\n",
       "         'segregated': 1,\n",
       "         'roof:orientation': 1})"
      ]
     },
     "execution_count": 2,
     "metadata": {},
     "output_type": "execute_result"
    }
   ],
   "source": [
    "all_extratags_keys = []\n",
    "all_types = []\n",
    "all_categories = []\n",
    "for entry in (data_base / \"nominatim_cache\").glob(\"*details.json\"):\n",
    "    obj = json.loads(entry.read_text())\n",
    "    all_extratags_keys.extend(\n",
    "        list(obj[\"extratags\"].keys())\n",
    "    )\n",
    "    all_types.append(obj[\"category\"])\n",
    "    all_categories.append(obj[\"type\"])\n",
    "\n",
    "Counter(all_extratags_keys)"
   ]
  },
  {
   "cell_type": "code",
   "execution_count": 3,
   "id": "ee3d4ef1-b248-4b3c-935c-3a57f841218d",
   "metadata": {},
   "outputs": [
    {
     "data": {
      "text/plain": [
       "Counter({'building': 309,\n",
       "         'amenity': 258,\n",
       "         'highway': 154,\n",
       "         'emergency': 33,\n",
       "         'place': 27,\n",
       "         'office': 15,\n",
       "         'man_made': 9,\n",
       "         'tourism': 6,\n",
       "         'leisure': 5,\n",
       "         'historic': 5})"
      ]
     },
     "execution_count": 3,
     "metadata": {},
     "output_type": "execute_result"
    }
   ],
   "source": [
    "Counter(all_types)"
   ]
  },
  {
   "cell_type": "code",
   "execution_count": 4,
   "id": "945c3ee1-de23-421d-841c-e825bee731fb",
   "metadata": {
    "scrolled": true
   },
   "outputs": [
    {
     "data": {
      "text/plain": [
       "Counter({'university': 360,\n",
       "         'service': 140,\n",
       "         'research_institute': 94,\n",
       "         'fire_extinguisher': 29,\n",
       "         'house': 27,\n",
       "         'parking': 22,\n",
       "         'library': 13,\n",
       "         'auditorium': 11,\n",
       "         'apartments': 9,\n",
       "         'commercial': 7,\n",
       "         'fire_station': 6,\n",
       "         'research': 6,\n",
       "         'artwork': 6,\n",
       "         'kindergarten': 5,\n",
       "         'office': 5,\n",
       "         'works': 5,\n",
       "         'tower': 4,\n",
       "         'education_centre': 4,\n",
       "         'doctors': 4,\n",
       "         'residential': 4,\n",
       "         'canteen': 3,\n",
       "         'garage': 3,\n",
       "         'fire_alarm_box': 3,\n",
       "         'bicycle_parking': 3,\n",
       "         'toilets': 3,\n",
       "         'memorial': 3,\n",
       "         'pedestrian': 2,\n",
       "         'cafe': 2,\n",
       "         'greenhouse': 2,\n",
       "         'restaurant': 2,\n",
       "         'sports_centre': 2,\n",
       "         'stadium': 2,\n",
       "         'platform': 2,\n",
       "         'association': 2,\n",
       "         'reception_desk': 2,\n",
       "         'elevator': 2,\n",
       "         'company': 2,\n",
       "         'retail': 1,\n",
       "         'internet_cafe': 1,\n",
       "         'first_aid_kit': 1,\n",
       "         'track': 1,\n",
       "         'dormitory': 1,\n",
       "         'kitchen': 1,\n",
       "         'insurance': 1,\n",
       "         'bus_stop': 1,\n",
       "         'government': 1,\n",
       "         'yes': 1,\n",
       "         'food_sharing': 1,\n",
       "         'outdoor_seating': 1,\n",
       "         'administrative': 1,\n",
       "         'garden': 1,\n",
       "         'grit_bin': 1,\n",
       "         'hackerspace': 1,\n",
       "         'atm': 1,\n",
       "         'path': 1,\n",
       "         'language_school': 1,\n",
       "         'unclassified': 1})"
      ]
     },
     "execution_count": 4,
     "metadata": {},
     "output_type": "execute_result"
    }
   ],
   "source": [
    "Counter(all_categories)"
   ]
  },
  {
   "cell_type": "markdown",
   "id": "3636bd22-491d-4ff8-b152-9e58fd690b48",
   "metadata": {},
   "source": [
    "### what to keep?\n",
    "names and extratags\n",
    "what extratags? or all?\n",
    "\n",
    "Interesting:\n",
    "- wheelchair(:description)\n",
    "- fire extinguisher?\n",
    "- opening hours\n",
    "- contact:phone\n",
    "- ..."
   ]
  },
  {
   "cell_type": "code",
   "execution_count": 12,
   "id": "fb57b2cb-5cd1-4cdd-8590-5ea3f8f287bc",
   "metadata": {},
   "outputs": [
    {
     "data": {
      "text/plain": [
       "{'level': '2',\n",
       " 'phone': '+49 721 608 41701',\n",
       " 'website': 'http://www.teco.edu/',\n",
       " 'operator': 'Karlsruher Institut für Technologie',\n",
       " 'wikidata': 'Q1660769',\n",
       " 'wikipedia': 'en:Telecooperation Office',\n",
       " 'university': 'institute',\n",
       " 'wheelchair': 'yes',\n",
       " 'wheelchair:description': 'Aufzug vorhanden'}"
      ]
     },
     "execution_count": 12,
     "metadata": {},
     "output_type": "execute_result"
    }
   ],
   "source": [
    "inspect(\"695_details.json\")[\"extratags\"]"
   ]
  },
  {
   "cell_type": "code",
   "execution_count": 3,
   "id": "94742bf3-546d-4be8-a387-dd08270e27a5",
   "metadata": {},
   "outputs": [
    {
     "data": {
      "text/plain": [
       "{'place_id': 113349786,\n",
       " 'parent_place_id': 113285281,\n",
       " 'osm_type': 'N',\n",
       " 'osm_id': 775171046,\n",
       " 'category': 'amenity',\n",
       " 'type': 'doctors',\n",
       " 'admin_level': 15,\n",
       " 'localname': 'Ambulanz',\n",
       " 'names': {'name': 'Ambulanz'},\n",
       " 'addresstags': {},\n",
       " 'calculated_postcode': '76344',\n",
       " 'country_code': 'de',\n",
       " 'indexed_date': '2025-01-25T22:16:13.397688+00:00',\n",
       " 'importance': 5.043793392838968e-05,\n",
       " 'calculated_importance': 5.043793392838968e-05,\n",
       " 'extratags': {'access': 'private',\n",
       "  'operator': 'Karlsruher Institut für Technologie',\n",
       "  'healthcare': 'doctor',\n",
       "  'opening_hours': '24/7',\n",
       "  'contact:website': 'https://www.med.kit.edu/',\n",
       "  'healthcare:speciality': 'emergency;occupational'},\n",
       " 'rank_address': 30,\n",
       " 'rank_search': 30,\n",
       " 'isarea': False,\n",
       " 'centroid': {'type': 'Point', 'coordinates': [8.4270513, 49.0923348]},\n",
       " 'geometry': {'type': 'Point', 'coordinates': [8.4270513, 49.0923348]},\n",
       " 'icon': 'https://nominatim.openstreetmap.org/ui/mapicons/health_doctors.p.20.png'}"
      ]
     },
     "execution_count": 3,
     "metadata": {},
     "output_type": "execute_result"
    }
   ],
   "source": [
    "inspect(\"690_details.json\")"
   ]
  },
  {
   "cell_type": "code",
   "execution_count": 4,
   "id": "4309b7ac-e079-49ca-9cc7-7769bb4b1b4a",
   "metadata": {},
   "outputs": [
    {
     "data": {
      "text/plain": [
       "{'type': 'FeatureCollection',\n",
       " 'licence': 'Data © OpenStreetMap contributors, ODbL 1.0. http://osm.org/copyright',\n",
       " 'features': [{'type': 'Feature',\n",
       "   'properties': {'place_id': 113343609,\n",
       "    'osm_type': 'way',\n",
       "    'osm_id': 173943848,\n",
       "    'place_rank': 30,\n",
       "    'category': 'amenity',\n",
       "    'type': 'kindergarten',\n",
       "    'importance': 5.043793392838968e-05,\n",
       "    'addresstype': 'amenity',\n",
       "    'name': 'Nanos!',\n",
       "    'display_name': 'Nanos!, 1, Hermann-von-Helmholtz-Platz, Leopoldshafen, Eggenstein-Leopoldshafen, Landkreis Karlsruhe, Baden-Württemberg, 76344, Deutschland',\n",
       "    'address': {'amenity': 'Nanos!',\n",
       "     'house_number': '1',\n",
       "     'road': 'Hermann-von-Helmholtz-Platz',\n",
       "     'suburb': 'Leopoldshafen',\n",
       "     'village': 'Eggenstein-Leopoldshafen',\n",
       "     'county': 'Landkreis Karlsruhe',\n",
       "     'state': 'Baden-Württemberg',\n",
       "     'ISO3166-2-lvl4': 'DE-BW',\n",
       "     'postcode': '76344',\n",
       "     'country': 'Deutschland',\n",
       "     'country_code': 'de'}},\n",
       "   'bbox': [8.4303367, 49.0903335, 8.4316924, 49.0912362],\n",
       "   'geometry': {'type': 'Point',\n",
       "    'coordinates': [8.431013014551151, 49.09076245]}}]}"
      ]
     },
     "execution_count": 4,
     "metadata": {},
     "output_type": "execute_result"
    }
   ],
   "source": [
    "reverse = inspect(\"675_reverse.json\")\n",
    "reverse"
   ]
  },
  {
   "cell_type": "markdown",
   "id": "d73612bd-47b5-4e24-a762-e606bd199a66",
   "metadata": {},
   "source": [
    "## Reverse "
   ]
  },
  {
   "cell_type": "code",
   "execution_count": 5,
   "id": "d38f9157-b570-4053-a7dc-553c1e1bfe69",
   "metadata": {},
   "outputs": [
    {
     "data": {
      "text/plain": [
       "{'type': 'Feature',\n",
       " 'properties': {'place_id': 113343609,\n",
       "  'osm_type': 'way',\n",
       "  'osm_id': 173943848,\n",
       "  'place_rank': 30,\n",
       "  'category': 'amenity',\n",
       "  'type': 'kindergarten',\n",
       "  'importance': 5.043793392838968e-05,\n",
       "  'addresstype': 'amenity',\n",
       "  'name': 'Nanos!',\n",
       "  'display_name': 'Nanos!, 1, Hermann-von-Helmholtz-Platz, Leopoldshafen, Eggenstein-Leopoldshafen, Landkreis Karlsruhe, Baden-Württemberg, 76344, Deutschland',\n",
       "  'address': {'amenity': 'Nanos!',\n",
       "   'house_number': '1',\n",
       "   'road': 'Hermann-von-Helmholtz-Platz',\n",
       "   'suburb': 'Leopoldshafen',\n",
       "   'village': 'Eggenstein-Leopoldshafen',\n",
       "   'county': 'Landkreis Karlsruhe',\n",
       "   'state': 'Baden-Württemberg',\n",
       "   'ISO3166-2-lvl4': 'DE-BW',\n",
       "   'postcode': '76344',\n",
       "   'country': 'Deutschland',\n",
       "   'country_code': 'de'}},\n",
       " 'bbox': [8.4303367, 49.0903335, 8.4316924, 49.0912362],\n",
       " 'geometry': {'type': 'Point',\n",
       "  'coordinates': [8.431013014551151, 49.09076245]}}"
      ]
     },
     "execution_count": 5,
     "metadata": {},
     "output_type": "execute_result"
    }
   ],
   "source": [
    "# reverse mapping\n",
    "\n",
    "feature = reverse[\"features\"][0] # more than one feature?\n",
    "feature"
   ]
  },
  {
   "cell_type": "code",
   "execution_count": 21,
   "id": "946a9398-a76a-4df4-b65c-31635fbb6510",
   "metadata": {},
   "outputs": [
    {
     "data": {
      "text/plain": [
       "{'place_id': 113343609,\n",
       " 'osm_type': 'way',\n",
       " 'osm_id': 173943848,\n",
       " 'place_rank': 30,\n",
       " 'category': 'amenity',\n",
       " 'type': 'kindergarten',\n",
       " 'importance': 5.043793392838968e-05,\n",
       " 'addresstype': 'amenity',\n",
       " 'name': 'Nanos!',\n",
       " 'display_name': 'Nanos!, 1, Hermann-von-Helmholtz-Platz, Leopoldshafen, Eggenstein-Leopoldshafen, Landkreis Karlsruhe, Baden-Württemberg, 76344, Deutschland',\n",
       " 'address': {'amenity': 'Nanos!',\n",
       "  'house_number': '1',\n",
       "  'road': 'Hermann-von-Helmholtz-Platz',\n",
       "  'suburb': 'Leopoldshafen',\n",
       "  'village': 'Eggenstein-Leopoldshafen',\n",
       "  'county': 'Landkreis Karlsruhe',\n",
       "  'state': 'Baden-Württemberg',\n",
       "  'ISO3166-2-lvl4': 'DE-BW',\n",
       "  'postcode': '76344',\n",
       "  'country': 'Deutschland',\n",
       "  'country_code': 'de'}}"
      ]
     },
     "execution_count": 21,
     "metadata": {},
     "output_type": "execute_result"
    }
   ],
   "source": [
    "feature[\"properties\"] # keep type, category, name, display_name"
   ]
  },
  {
   "cell_type": "code",
   "execution_count": null,
   "id": "2870c4a3-3f2c-49fc-a1e6-4923d2f04a3a",
   "metadata": {},
   "outputs": [],
   "source": []
  }
 ],
 "metadata": {
  "kernelspec": {
   "display_name": "Python 3 (ipykernel)",
   "language": "python",
   "name": "python3"
  },
  "language_info": {
   "codemirror_mode": {
    "name": "ipython",
    "version": 3
   },
   "file_extension": ".py",
   "mimetype": "text/x-python",
   "name": "python",
   "nbconvert_exporter": "python",
   "pygments_lexer": "ipython3",
   "version": "3.13.3"
  }
 },
 "nbformat": 4,
 "nbformat_minor": 5
}
